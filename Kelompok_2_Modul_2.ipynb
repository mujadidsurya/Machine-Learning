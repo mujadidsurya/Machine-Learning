{
 "cells": [
  {
   "cell_type": "markdown",
   "metadata": {},
   "source": [
    "### ANGGOTA KELOMPOK 2 PRAKTIKUM PEMBELAJARAN MESIN : <br>\n",
    "| NIM | NAMA |\n",
    "|---------|-----------|\n",
    "| 121450015 | Mujadid Choirus Surya |\n",
    "| 121450018 | Balqis Dwian Fitri Zamzami |\n",
    "| 121450042 | Sylviani Primaastuti Ananda |\n",
    "| 121450108 | Vanessa Olivia Rose |\n",
    "| 121450156 | Muhammad Fahrul Aditya |"
   ]
  },
  {
   "cell_type": "markdown",
   "metadata": {},
   "source": [
    "# Tugas Kelompok Modul 2\n",
    "\n",
    "Buatlah perancangan model dengan menggunakan multiple linear regresi jika studi kasus dibawah ini:\n",
    "\n",
    "![Alt text](image.png)"
   ]
  },
  {
   "cell_type": "markdown",
   "metadata": {},
   "source": [
    "# INI JAWABANNYA\n"
   ]
  },
  {
   "cell_type": "code",
   "execution_count": 125,
   "metadata": {},
   "outputs": [],
   "source": [
    "import pandas as pd\n",
    "import numpy as np\n",
    "import matplotlib.pyplot as plt\n",
    "from sklearn.model_selection import train_test_split\n",
    "from sklearn.linear_model import LinearRegression\n",
    "from sklearn import metrics\n",
    "from sklearn.metrics import mean_squared_error, mean_absolute_error"
   ]
  },
  {
   "cell_type": "code",
   "execution_count": 126,
   "metadata": {},
   "outputs": [
    {
     "data": {
      "text/html": [
       "<div>\n",
       "<style scoped>\n",
       "    .dataframe tbody tr th:only-of-type {\n",
       "        vertical-align: middle;\n",
       "    }\n",
       "\n",
       "    .dataframe tbody tr th {\n",
       "        vertical-align: top;\n",
       "    }\n",
       "\n",
       "    .dataframe thead th {\n",
       "        text-align: right;\n",
       "    }\n",
       "</style>\n",
       "<table border=\"1\" class=\"dataframe\">\n",
       "  <thead>\n",
       "    <tr style=\"text-align: right;\">\n",
       "      <th></th>\n",
       "      <th>Daerah</th>\n",
       "      <th>Penjualan</th>\n",
       "      <th>Promosi</th>\n",
       "      <th>Outlet</th>\n",
       "      <th>Laju Penduduk</th>\n",
       "      <th>Pesaing</th>\n",
       "      <th>Income</th>\n",
       "    </tr>\n",
       "  </thead>\n",
       "  <tbody>\n",
       "    <tr>\n",
       "      <th>0</th>\n",
       "      <td>Jakarta</td>\n",
       "      <td>205</td>\n",
       "      <td>26</td>\n",
       "      <td>159</td>\n",
       "      <td>2.00</td>\n",
       "      <td>15</td>\n",
       "      <td>5.46</td>\n",
       "    </tr>\n",
       "    <tr>\n",
       "      <th>1</th>\n",
       "      <td>Tangerang</td>\n",
       "      <td>206</td>\n",
       "      <td>28</td>\n",
       "      <td>164</td>\n",
       "      <td>1.50</td>\n",
       "      <td>16</td>\n",
       "      <td>2.43</td>\n",
       "    </tr>\n",
       "    <tr>\n",
       "      <th>2</th>\n",
       "      <td>Bekasi</td>\n",
       "      <td>254</td>\n",
       "      <td>35</td>\n",
       "      <td>198</td>\n",
       "      <td>1.75</td>\n",
       "      <td>19</td>\n",
       "      <td>2.56</td>\n",
       "    </tr>\n",
       "    <tr>\n",
       "      <th>3</th>\n",
       "      <td>Bogor</td>\n",
       "      <td>246</td>\n",
       "      <td>31</td>\n",
       "      <td>184</td>\n",
       "      <td>1.64</td>\n",
       "      <td>17</td>\n",
       "      <td>3.55</td>\n",
       "    </tr>\n",
       "    <tr>\n",
       "      <th>4</th>\n",
       "      <td>Bandung</td>\n",
       "      <td>201</td>\n",
       "      <td>21</td>\n",
       "      <td>150</td>\n",
       "      <td>2.65</td>\n",
       "      <td>11</td>\n",
       "      <td>4.35</td>\n",
       "    </tr>\n",
       "  </tbody>\n",
       "</table>\n",
       "</div>"
      ],
      "text/plain": [
       "      Daerah  Penjualan  Promosi  Outlet  Laju Penduduk  Pesaing  Income\n",
       "0    Jakarta        205       26     159           2.00       15    5.46\n",
       "1  Tangerang        206       28     164           1.50       16    2.43\n",
       "2     Bekasi        254       35     198           1.75       19    2.56\n",
       "3      Bogor        246       31     184           1.64       17    3.55\n",
       "4    Bandung        201       21     150           2.65       11    4.35"
      ]
     },
     "execution_count": 126,
     "metadata": {},
     "output_type": "execute_result"
    }
   ],
   "source": [
    "# Impor data dari file CSV\n",
    "df = pd.read_csv('dataset.csv')\n",
    "df.head()"
   ]
  },
  {
   "cell_type": "code",
   "execution_count": 127,
   "metadata": {},
   "outputs": [
    {
     "data": {
      "text/html": [
       "<div>\n",
       "<style scoped>\n",
       "    .dataframe tbody tr th:only-of-type {\n",
       "        vertical-align: middle;\n",
       "    }\n",
       "\n",
       "    .dataframe tbody tr th {\n",
       "        vertical-align: top;\n",
       "    }\n",
       "\n",
       "    .dataframe thead th {\n",
       "        text-align: right;\n",
       "    }\n",
       "</style>\n",
       "<table border=\"1\" class=\"dataframe\">\n",
       "  <thead>\n",
       "    <tr style=\"text-align: right;\">\n",
       "      <th></th>\n",
       "      <th>Penjualan</th>\n",
       "      <th>Promosi</th>\n",
       "      <th>Outlet</th>\n",
       "      <th>Laju Penduduk</th>\n",
       "      <th>Pesaing</th>\n",
       "      <th>Income</th>\n",
       "    </tr>\n",
       "  </thead>\n",
       "  <tbody>\n",
       "    <tr>\n",
       "      <th>count</th>\n",
       "      <td>15.000000</td>\n",
       "      <td>15.000000</td>\n",
       "      <td>15.000000</td>\n",
       "      <td>15.000000</td>\n",
       "      <td>15.00000</td>\n",
       "      <td>15.000000</td>\n",
       "    </tr>\n",
       "    <tr>\n",
       "      <th>mean</th>\n",
       "      <td>246.400000</td>\n",
       "      <td>34.666667</td>\n",
       "      <td>187.933333</td>\n",
       "      <td>1.983333</td>\n",
       "      <td>16.20000</td>\n",
       "      <td>3.328000</td>\n",
       "    </tr>\n",
       "    <tr>\n",
       "      <th>std</th>\n",
       "      <td>41.112737</td>\n",
       "      <td>9.678154</td>\n",
       "      <td>38.087243</td>\n",
       "      <td>0.507003</td>\n",
       "      <td>3.87667</td>\n",
       "      <td>0.922134</td>\n",
       "    </tr>\n",
       "    <tr>\n",
       "      <th>min</th>\n",
       "      <td>201.000000</td>\n",
       "      <td>21.000000</td>\n",
       "      <td>149.000000</td>\n",
       "      <td>1.350000</td>\n",
       "      <td>10.00000</td>\n",
       "      <td>2.430000</td>\n",
       "    </tr>\n",
       "    <tr>\n",
       "      <th>25%</th>\n",
       "      <td>207.500000</td>\n",
       "      <td>29.000000</td>\n",
       "      <td>161.500000</td>\n",
       "      <td>1.580000</td>\n",
       "      <td>14.00000</td>\n",
       "      <td>2.555000</td>\n",
       "    </tr>\n",
       "    <tr>\n",
       "      <th>50%</th>\n",
       "      <td>245.000000</td>\n",
       "      <td>31.000000</td>\n",
       "      <td>184.000000</td>\n",
       "      <td>1.750000</td>\n",
       "      <td>16.00000</td>\n",
       "      <td>3.010000</td>\n",
       "    </tr>\n",
       "    <tr>\n",
       "      <th>75%</th>\n",
       "      <td>275.500000</td>\n",
       "      <td>41.000000</td>\n",
       "      <td>199.500000</td>\n",
       "      <td>2.535000</td>\n",
       "      <td>18.50000</td>\n",
       "      <td>3.600000</td>\n",
       "    </tr>\n",
       "    <tr>\n",
       "      <th>max</th>\n",
       "      <td>322.000000</td>\n",
       "      <td>54.000000</td>\n",
       "      <td>287.000000</td>\n",
       "      <td>2.740000</td>\n",
       "      <td>24.00000</td>\n",
       "      <td>5.460000</td>\n",
       "    </tr>\n",
       "  </tbody>\n",
       "</table>\n",
       "</div>"
      ],
      "text/plain": [
       "        Penjualan    Promosi      Outlet  Laju Penduduk   Pesaing     Income\n",
       "count   15.000000  15.000000   15.000000      15.000000  15.00000  15.000000\n",
       "mean   246.400000  34.666667  187.933333       1.983333  16.20000   3.328000\n",
       "std     41.112737   9.678154   38.087243       0.507003   3.87667   0.922134\n",
       "min    201.000000  21.000000  149.000000       1.350000  10.00000   2.430000\n",
       "25%    207.500000  29.000000  161.500000       1.580000  14.00000   2.555000\n",
       "50%    245.000000  31.000000  184.000000       1.750000  16.00000   3.010000\n",
       "75%    275.500000  41.000000  199.500000       2.535000  18.50000   3.600000\n",
       "max    322.000000  54.000000  287.000000       2.740000  24.00000   5.460000"
      ]
     },
     "execution_count": 127,
     "metadata": {},
     "output_type": "execute_result"
    }
   ],
   "source": [
    "df.describe()"
   ]
  },
  {
   "cell_type": "code",
   "execution_count": 128,
   "metadata": {},
   "outputs": [
    {
     "data": {
      "image/png": "[encoded data removed]",
      "text/plain": [
       "<Figure size 640x480 with 1 Axes>"
      ]
     },
     "metadata": {},
     "output_type": "display_data"
    }
   ],
   "source": [
    "import seaborn as sns\n",
    "\n",
    "\n",
    "# Contoh DataFrame (pastikan Anda punya DataFrame sesuai dengan nama 'df')\n",
    "# df = pd.DataFrame(data)\n",
    "\n",
    "# Membuat scatter plot\n",
    "sns.scatterplot(x='Promosi', y='Penjualan', data=df)\n",
    "sns.scatterplot(x='Outlet', y='Penjualan', data=df)\n",
    "sns.scatterplot(x='Laju Penduduk', y='Penjualan', data=df)\n",
    "sns.scatterplot(x='Pesaing', y='Penjualan', data=df)\n",
    "sns.scatterplot(x='Income', y='Penjualan', data=df)\n",
    "\n",
    "# Menambahkan label untuk sumbu x dan y\n",
    "plt.xlabel('Variabel Independen')\n",
    "plt.ylabel('Penjualan')\n",
    "\n",
    "# Menampilkan plot\n",
    "plt.show()\n"
   ]
  },
  {
   "cell_type": "code",
   "execution_count": 129,
   "metadata": {},
   "outputs": [],
   "source": [
    "X = df[['Promosi','Outlet','Laju Penduduk','Pesaing','Income']]\n",
    "y = df['Penjualan']\n",
    "\n",
    "X_train, X_test, y_train, y_test = train_test_split(X, y,\n",
    "                                                    test_size=0.2, random_state=2)"
   ]
  },
  {
   "cell_type": "code",
   "execution_count": 130,
   "metadata": {},
   "outputs": [
    {
     "data": {
      "text/html": [
       "<div>\n",
       "<style scoped>\n",
       "    .dataframe tbody tr th:only-of-type {\n",
       "        vertical-align: middle;\n",
       "    }\n",
       "\n",
       "    .dataframe tbody tr th {\n",
       "        vertical-align: top;\n",
       "    }\n",
       "\n",
       "    .dataframe thead th {\n",
       "        text-align: right;\n",
       "    }\n",
       "</style>\n",
       "<table border=\"1\" class=\"dataframe\">\n",
       "  <thead>\n",
       "    <tr style=\"text-align: right;\">\n",
       "      <th></th>\n",
       "      <th>Koefisien</th>\n",
       "    </tr>\n",
       "  </thead>\n",
       "  <tbody>\n",
       "    <tr>\n",
       "      <th>Promosi</th>\n",
       "      <td>1.622738</td>\n",
       "    </tr>\n",
       "    <tr>\n",
       "      <th>Outlet</th>\n",
       "      <td>0.590052</td>\n",
       "    </tr>\n",
       "    <tr>\n",
       "      <th>Laju Penduduk</th>\n",
       "      <td>5.686180</td>\n",
       "    </tr>\n",
       "    <tr>\n",
       "      <th>Pesaing</th>\n",
       "      <td>1.677556</td>\n",
       "    </tr>\n",
       "    <tr>\n",
       "      <th>Income</th>\n",
       "      <td>0.225662</td>\n",
       "    </tr>\n",
       "  </tbody>\n",
       "</table>\n",
       "</div>"
      ],
      "text/plain": [
       "               Koefisien\n",
       "Promosi         1.622738\n",
       "Outlet          0.590052\n",
       "Laju Penduduk   5.686180\n",
       "Pesaing         1.677556\n",
       "Income          0.225662"
      ]
     },
     "execution_count": 130,
     "metadata": {},
     "output_type": "execute_result"
    }
   ],
   "source": [
    "regressi = LinearRegression()\n",
    "regressi.fit(X_train, y_train)\n",
    "coeff_df = pd.DataFrame(regressi.coef_, X.columns,\n",
    "                        columns=['Koefisien'])\n",
    "coeff_df"
   ]
  },
  {
   "cell_type": "code",
   "execution_count": 131,
   "metadata": {},
   "outputs": [
    {
     "data": {
      "text/html": [
       "<div>\n",
       "<style scoped>\n",
       "    .dataframe tbody tr th:only-of-type {\n",
       "        vertical-align: middle;\n",
       "    }\n",
       "\n",
       "    .dataframe tbody tr th {\n",
       "        vertical-align: top;\n",
       "    }\n",
       "\n",
       "    .dataframe thead th {\n",
       "        text-align: right;\n",
       "    }\n",
       "</style>\n",
       "<table border=\"1\" class=\"dataframe\">\n",
       "  <thead>\n",
       "    <tr style=\"text-align: right;\">\n",
       "      <th></th>\n",
       "      <th>Actual</th>\n",
       "      <th>Predicted</th>\n",
       "    </tr>\n",
       "  </thead>\n",
       "  <tbody>\n",
       "    <tr>\n",
       "      <th>11</th>\n",
       "      <td>286</td>\n",
       "      <td>275.581280</td>\n",
       "    </tr>\n",
       "    <tr>\n",
       "      <th>4</th>\n",
       "      <td>201</td>\n",
       "      <td>196.087596</td>\n",
       "    </tr>\n",
       "    <tr>\n",
       "      <th>5</th>\n",
       "      <td>291</td>\n",
       "      <td>290.574131</td>\n",
       "    </tr>\n",
       "  </tbody>\n",
       "</table>\n",
       "</div>"
      ],
      "text/plain": [
       "    Actual   Predicted\n",
       "11     286  275.581280\n",
       "4      201  196.087596\n",
       "5      291  290.574131"
      ]
     },
     "execution_count": 131,
     "metadata": {},
     "output_type": "execute_result"
    }
   ],
   "source": [
    "y_pred = regressi.predict(X_test)\n",
    "\n",
    "df = pd.DataFrame({'Actual': y_test, 'Predicted': y_pred})\n",
    "df"
   ]
  },
  {
   "cell_type": "code",
   "execution_count": 132,
   "metadata": {},
   "outputs": [
    {
     "name": "stdout",
     "output_type": "stream",
     "text": [
      "Intercept: 38.999177170186215\n"
     ]
    }
   ],
   "source": [
    "print(\"Intercept:\", regressi.intercept_)"
   ]
  },
  {
   "cell_type": "code",
   "execution_count": 133,
   "metadata": {},
   "outputs": [
    {
     "data": {
      "image/png": "[encoded data removed]",
      "text/plain": [
       "<Figure size 1000x600 with 1 Axes>"
      ]
     },
     "metadata": {},
     "output_type": "display_data"
    }
   ],
   "source": [
    "# Mengatur ukuran gambar\n",
    "plt.figure(figsize=(10, 6))\n",
    "\n",
    "# Scatter plot data uji\n",
    "sns.scatterplot(x=y_test, y=y_pred)\n",
    "plt.xlabel(\"Penjualan Sebenarnya\")\n",
    "plt.ylabel(\"Prediksi Penjualan\")\n",
    "plt.title(\"Hasil Regresi Linear Berganda\")\n",
    "\n",
    "# Menampilkan garis regresi pada scatter plot\n",
    "plt.plot([min(y_test), max(y_test)], [min(y_test), max(y_test)], linestyle='--', color='red', linewidth=2)\n",
    "\n",
    "plt.show()"
   ]
  },
  {
   "cell_type": "code",
   "execution_count": 134,
   "metadata": {},
   "outputs": [
    {
     "name": "stdout",
     "output_type": "stream",
     "text": [
      "Mean Absolute Error:  5.25233129637662\n",
      "Mean Squared Error :  44.28760274563363\n"
     ]
    }
   ],
   "source": [
    "# Evaluasi Model\n",
    "\n",
    "print('Mean Absolute Error: ', mean_absolute_error(y_test, y_pred))\n",
    "print('Mean Squared Error : ', mean_squared_error(y_test, y_pred))"
   ]
  }
 ],
 "metadata": {
  "kernelspec": {
   "display_name": "Python 3",
   "language": "python",
   "name": "python3"
  },
  "language_info": {
   "codemirror_mode": {
    "name": "ipython",
    "version": 3
   },
   "file_extension": ".py",
   "mimetype": "text/x-python",
   "name": "python",
   "nbconvert_exporter": "python",
   "pygments_lexer": "ipython3",
   "version": "3.9.7"
  },
  "orig_nbformat": 4
 },
 "nbformat": 4,
 "nbformat_minor": 2
}
