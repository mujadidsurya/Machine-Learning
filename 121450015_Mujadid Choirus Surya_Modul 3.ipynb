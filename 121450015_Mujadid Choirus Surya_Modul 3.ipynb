{
  "cells": [
    {
      "cell_type": "markdown",
      "metadata": {
        "id": "mdRYAlOPxZ7n"
      },
      "source": [
        "# TUGAS INDIVIDU\n",
        "# Mujadid Choirus Surya\n",
        "# 121450015\n",
        "# RA"
      ]
    },
    {
      "cell_type": "markdown",
      "metadata": {
        "id": "e-kekXdLxl72"
      },
      "source": [
        "# A. Fungsi Diskriminan"
      ]
    },
    {
      "cell_type": "markdown",
      "metadata": {
        "id": "chzLOyImxrah"
      },
      "source": [
        "## Fisher Linear Disc"
      ]
    },
    {
      "cell_type": "code",
      "execution_count": null,
      "metadata": {
        "id": "BymNs0z4x3kn"
      },
      "outputs": [],
      "source": [
        "import numpy as np\n",
        "import pandas as pd\n",
        "from numpy.linalg import inv as inv\n",
        "import matplotlib.pyplot as plt\n",
        "from scipy.stats import norm as norm\n",
        "from sklearn.model_selection import train_test_split"
      ]
    },
    {
      "cell_type": "code",
      "execution_count": null,
      "metadata": {
        "id": "5ioh1BxpyqnI"
      },
      "outputs": [],
      "source": [
        "def plot_pdfs(mean1, mean2, std1, std2, threshold, dataset_name):\n",
        "    # change X limits for pdf plot to -3 to 3 if normalised W is used. Otherwise set it to -30 to 30\n",
        "    X_axis = np.linspace(-3.0,3.0,100000)\n",
        "    plt.plot(X_axis, norm.pdf(X_axis, mean1, std1),'-', color='b',label='Class 1 (value 1)')\n",
        "    plt.plot(X_axis, norm.pdf(X_axis, mean2, std2),'-', color='r',label='Class 2 (value 0)')\n",
        "    plt.plot([threshold], norm.pdf([threshold], mean1, std1), '.', color='g',label='Threshold')\n",
        "    plt.legend(loc = 'upper right')\n",
        "    plt.title('Normal distributions. Threshold = '+ str(threshold))\n",
        "    plt.savefig('/content/plots' + str(dataset_name) + '_FldaNormDistribution.png')\n",
        "    plt.show()"
      ]
    },
    {
      "cell_type": "code",
      "execution_count": null,
      "metadata": {
        "id": "LoyWnyYKyuxG"
      },
      "outputs": [],
      "source": [
        "def plot_projections(projections, y_test, threshold, dataset_name):\n",
        "    proj_pred_data = pd.DataFrame(np.concatenate((projections, y_test), axis=1))\n",
        "    proj1_pred = proj_pred_data.loc[proj_pred_data[1] == 1][[0]]\n",
        "    proj2_pred = proj_pred_data.loc[proj_pred_data[1] == 0][[0]]\n",
        "    plt.plot(proj1_pred, np.ones(proj1_pred.shape), '.', color='b', label='Class 1 (value 1)')\n",
        "    plt.plot(proj2_pred, np.ones(proj2_pred.shape), '.', color='r',label='Class 2 (value 0)')\n",
        "    plt.plot([threshold], [1], '.', color='g',label='Threshold')\n",
        "    plt.legend(loc = 'upper right')\n",
        "    plt.title('Projections onto W vector. Threshold = '+ str(threshold))\n",
        "    plt.savefig('/content/plots' + str(dataset_name) + '_FldaProjections.png')\n",
        "    plt.show()"
      ]
    },
    {
      "cell_type": "code",
      "execution_count": null,
      "metadata": {
        "id": "BAKSGG8VzLh2"
      },
      "outputs": [],
      "source": [
        "def solve_pdfs(pdf_mean_1, pdf_mean_2, pdf_std_1, pdf_std_2):\n",
        "    coeff1 = 1/(2*pdf_std_1**2) - 1/(2*pdf_std_2**2)\n",
        "    coeff2 = pdf_mean_2/(pdf_std_2**2) - pdf_mean_1/(pdf_std_1**2)\n",
        "    coeff3 = pdf_mean_1**2 /(2*pdf_std_1**2) - pdf_mean_2**2 / (2*pdf_std_2**2) - np.log(pdf_std_2/pdf_std_1)\n",
        "\n",
        "    coeffs = [coeff1, coeff2, coeff3]\n",
        "\n",
        "    roots_of_eq = np.roots(coeffs)\n",
        "    threshold = roots_of_eq[1]\n",
        "    return threshold"
      ]
    },
    {
      "cell_type": "code",
      "execution_count": null,
      "metadata": {
        "id": "LaM780zGzSkX"
      },
      "outputs": [],
      "source": [
        "def find_w_cordinates(X_train1, X_train2):\n",
        "\n",
        "\n",
        "    Mean1 = np.mean(X_train1,axis=0)\n",
        "    Mean2 = np.mean(X_train2,axis=0)\n",
        "    Mean_difference = np.subtract(Mean1,Mean2)\n",
        "\n",
        "    Cov1 = np.cov(np.transpose(X_train1))\n",
        "    Cov2 = np.cov(np.transpose(X_train2))\n",
        "\n",
        "\n",
        "    Sw_inv = np.linalg.inv(np.add(Cov1,Cov2))\n",
        "\n",
        "\n",
        "    W = np.dot(Sw_inv,Mean_difference)\n",
        "\n",
        "    W_norm = W / np.linalg.norm(W)\n",
        "\n",
        "    return W_norm"
      ]
    },
    {
      "cell_type": "code",
      "execution_count": null,
      "metadata": {
        "id": "VmuWzKVjzZn-"
      },
      "outputs": [],
      "source": [
        "def find_threshold(X_train1, X_train2, W, dataset_name):\n",
        "\n",
        "    Proj1 = np.dot(W,X_train1.transpose())\n",
        "    Proj2 = np.dot(W,X_train2.transpose())\n",
        "\n",
        "    proj_mean1 = np.mean(Proj1)\n",
        "    proj_mean2 = np.mean(Proj2)\n",
        "\n",
        "    proj_std1 = np.std(Proj1)\n",
        "    proj_std2 = np.std(Proj2)\n",
        "\n",
        "    threshold = solve_pdfs(proj_mean1, proj_mean2, proj_std1, proj_std2)\n",
        "\n",
        "    plot_pdfs(proj_mean1, proj_mean2, proj_std1, proj_std2, threshold, dataset_name)\n",
        "    return threshold"
      ]
    },
    {
      "cell_type": "code",
      "execution_count": null,
      "metadata": {
        "id": "AcLS7fFSp_At"
      },
      "outputs": [],
      "source": [
        "def find_predictions(X_test, W, threshold):\n",
        "  proj_testdata = np.dot(W, X_test.transpose()).reshape(X_test.shape[0],1)\n",
        "\n",
        "  predictions = (proj_testdata >= threshold).astype(int).reshape(X_test.shape[0],1)\n",
        "\n",
        "  return proj_testdata, predictions"
      ]
    },
    {
      "cell_type": "code",
      "execution_count": null,
      "metadata": {
        "id": "_hHtPJSlrNIH"
      },
      "outputs": [],
      "source": [
        "def accuracy(actual, predicted):\n",
        "\n",
        "  return np.mean((actual == predicted).astype(int))"
      ]
    },
    {
      "cell_type": "code",
      "execution_count": null,
      "metadata": {
        "id": "yRDKU3XErgpP"
      },
      "outputs": [],
      "source": [
        "def precision(actual, predicted):\n",
        "  TP = np.count_nonzero(np.logical_and((actual == 1) , (predicted == 1)).astype(int))\n",
        "  FP = np.count_nonzero(np.logical_and((actual == 0) , (predicted == 1)).astype(int))\n",
        "  return TP/(TP + FP)"
      ]
    },
    {
      "cell_type": "code",
      "execution_count": null,
      "metadata": {
        "id": "bMC8MzSLsKpO"
      },
      "outputs": [],
      "source": [
        "def recall(actual, predicted):\n",
        "  TP = np.count_nonzero(np.logical_and((actual == 1) , (predicted == 1)).astype(int))\n",
        "  FN = np.count_nonzero(np.logical_and((actual == 1) , (predicted == 0)).astype(int))\n",
        "  return TP/(TP + FN)"
      ]
    },
    {
      "cell_type": "code",
      "execution_count": null,
      "metadata": {
        "id": "lcUNjjJHsrvv"
      },
      "outputs": [],
      "source": [
        "def f_score(actual,predicted):\n",
        "  P = precision(actual, predicted)\n",
        "  R = recall(actual, predicted)\n",
        "  return 2*P*R/(P+R)\n"
      ]
    },
    {
      "cell_type": "code",
      "execution_count": null,
      "metadata": {
        "id": "VZ7JP0votO2n"
      },
      "outputs": [],
      "source": [
        "def fisher(X_train1, X_train2, X_test, y_test, dataset_name):\n",
        "  W = find_w_cordinates(X_train1, X_train2)\n",
        "  threshold = find_threshold(X_train1, X_train2, W, dataset_name)\n",
        "  projections, y_predicted = find_predictions(X_test, W, threshold)\n",
        "  plot_projections(projections, y_test, threshold, dataset_name)\n",
        "\n",
        "  print('W',W)\n",
        "  print('Threshold',threshold)\n",
        "  print('accuracy',accuracy(y_test, y_predicted))\n",
        "  print('precisions',precision(y_test, y_predicted))\n",
        "  print('recall',recall(y_test, y_predicted))\n",
        "  print('f_score',f_score(y_test, y_predicted))"
      ]
    },
    {
      "cell_type": "markdown",
      "metadata": {
        "id": "IyhCpwwg1IyW"
      },
      "source": [
        "## Dataset 1"
      ]
    },
    {
      "cell_type": "code",
      "execution_count": null,
      "metadata": {
        "colab": {
          "base_uri": "https://localhost:8080/",
          "height": 1000
        },
        "id": "N7Vzx-AdvYqe",
        "outputId": "363d7c8e-ba6a-4ef3-e111-4ea50122fd30"
      },
      "outputs": [],
      "source": [
        "data = pd.read_csv('D:\\KULIAH/Semester 5/PM/a1_d1.csv',header=None)\n",
        "\n",
        "\"\"\"\n",
        "N = jumlah total poin dalam set data yang diberikan\n",
        "X = [\n",
        "     [f1, f2, f3, ..] (1),\n",
        "     [f1, f2, f3, ..] (2),\n",
        "     [..............] (.),\n",
        "     [..............] (.),\n",
        "     [..............] (N)\n",
        "    ]\n",
        "\n",
        "y = [label1, label2, label3, ....labelN]\n",
        "\n",
        "\"\"\"\n",
        "\n",
        "X = data[[0,1]]\n",
        "y = data[[2]]\n",
        "\n",
        "X_1 = data.loc[data[2]==1][[0,1]]\n",
        "X_2 = data.loc[data[2]==0][[0,1]]\n",
        "print('TESTCASE - 1')\n",
        "fisher(X_1, X_2, X, y.values, \"a1_d1\")"
      ]
    },
    {
      "cell_type": "markdown",
      "metadata": {},
      "source": [
        "# Latihan"
      ]
    },
    {
      "cell_type": "markdown",
      "metadata": {
        "id": "9w_S3dS_0gsX"
      },
      "source": [
        "### Bagaimana code python jika menggunakan data a1_d2.csv"
      ]
    },
    {
      "cell_type": "code",
      "execution_count": null,
      "metadata": {
        "colab": {
          "base_uri": "https://localhost:8080/",
          "height": 1000
        },
        "id": "456EL4r91RX3",
        "outputId": "0bf13f84-045d-45e2-b6ec-b802d2ca6e47"
      },
      "outputs": [],
      "source": [
        "data = pd.read_csv('/content/a1_d2.csv', header=None)\n",
        "\n",
        "\"\"\"\n",
        "N = jumlah total poin dalam set data yang diberikan\n",
        "\n",
        "X = [\n",
        "     [f1, f2, f3, ..] (1),\n",
        "     [f1, f2, f3, ..] (2),\n",
        "     [..............] (.),\n",
        "     [..............] (.),\n",
        "     [..............] (N)\n",
        "    ]\n",
        "\n",
        "y = [label1, label2, label3, ....labelN]\n",
        "\n",
        "\"\"\"\n",
        "\n",
        "\n",
        "X = data[[0,1,2]]\n",
        "y = data[[3]]\n",
        "\n",
        "# label = 1 -> Class 1\n",
        "# label = 0 -> Class 2\n",
        "\n",
        "X_1 = data.loc[data[3]==1][[0,1,2]]\n",
        "X_2 = data.loc[data[3]==0][[0,1,2]]\n",
        "\n",
        "print('TESTCASE - 2')\n",
        "fisher(X_1, X_2, X, y.values, \"a1_d2\")"
      ]
    },
    {
      "cell_type": "markdown",
      "metadata": {},
      "source": [
        "### Apa perbedaan dari output yang diperoleh saat data a1_d1 dan a1_d2."
      ]
    },
    {
      "cell_type": "markdown",
      "metadata": {},
      "source": [
        "**Bobot (W):** Dataset 1 memiliki dua fitur dengan bobot [0.03304637 0.99945382].\n",
        "Dataset 2 memiliki tiga fitur dengan bobot [-0.00655686 -0.01823739 0.99981218]. Ini menunjukkan bahwa dataset kedua mungkin memiliki dimensi yang lebih tinggi.\n",
        "\n",
        "**Threshold:** Threshold yang lebih rendah dapat mengindikasikan bahwa dataset kedua mungkin memiliki distribusi data yang berbeda atau tingkat kepercayaan yang lebih tinggi dalam memisahkan kelas (Dapat dilihat juga berdasarkan grafik bahwa nilai threshold dataset2 berada jauh diantara dua nilai dari data class). Dataset 2 memiliki nilai threshold yang lebih rendah dari pada Dataset 1.\n",
        "\n",
        "**Metrik Klasifikasi:** Pada Dataset 2 memiliki hasil matrik yang sempurna yaitu sebesar 100%. Metrik klasifikasi yang sempurna ini menunjukkan bahwa model pada dataset kedua mampu memisahkan kelas dengan sangat baik.\n",
        "\n",
        "Model pada dataset kedua mungkin lebih kompleks dan mampu menangkap pola data yang lebih baik, menghasilkan hasil klasifikasi yang sempurna (akurasi, presisi, recall, dan F-score semuanya 1.0)."
      ]
    },
    {
      "cell_type": "markdown",
      "metadata": {},
      "source": [
        "### Tuliskan Pseudocode dari code data a1_d1 dan a1_d2."
      ]
    },
    {
      "cell_type": "markdown",
      "metadata": {},
      "source": [
        "1. Baca data dari file CSV menggunakan pandas: data = pd.read_csv('/content/a1_d1.csv', header=None)\n",
        "\n",
        "2. Ambil nilai fitur (kolom 0 dan 1) dan label (kolom 2) dari data:\n",
        "   X = data[[0, 1]]\n",
        "   y = data[[2]]\n",
        "\n",
        "3. Pisahkan data berdasarkan label:\n",
        "   X_1 = Ambil baris dari data di mana labelnya adalah 1 dan kolomnya adalah [0, 1]\n",
        "   X_2 = Ambil baris dari data di mana labelnya adalah 0 dan kolomnya adalah [0, 1]\n",
        "\n",
        "4. Cetak pesan 'TESTCASE - 1'\n",
        "\n",
        "5. Panggil fungsi fisher(X_1, X_2, X, y.values, \"a1_d1\") untuk menjalankan algoritma Fisher Linear Discriminant.\n",
        "\n",
        "6. Fungsi fisher(X_1, X_2, X, y, filename): \\\n",
        "   a. Hitung mean dari masing-masing kelas: mean_1, mean_2 \\\n",
        "   b. Hitung scatter matrices: S_1, S_2 \\\n",
        "   c. Hitung within-class scatter matrix: Sw = S_1 + S_2 \\\n",
        "   d. Hitung between-class scatter matrix: Sb = (mean_1 - mean_2) * (mean_1 - mean_2).T \\\n",
        "   e. Hitung eigenvectors dan eigenvalues dari matriks (Sw^-1) * Sb \\\n",
        "   f. Pilih eigenvector dengan eigenvalue terbesar sebagai vektor proyeksi W \\\n",
        "   g. Lakukan proyeksi data ke dalam ruang 1D menggunakan vektor proyeksi W \\\n",
        "   h. Hitung threshold menggunakan mean proyeksi data dari masing-masing kelas \\\n",
        "   i. Hitung akurasi, presisi, recall, dan F-score dari hasil prediksi \\\n",
        "   j. Simpan hasil evaluasi dan model ke dalam file dengan nama \"filename_evaluation.txt\" dan \"filename_model.txt\" respectively \n"
      ]
    },
    {
      "cell_type": "markdown",
      "metadata": {},
      "source": [
        "1. Baca data dari file CSV menggunakan pandas: data = pd.read_csv('/content/a1_d2.csv', header=None)\n",
        "\n",
        "2. Ambil nilai fitur (kolom 0, 1, dan 2) dan label (kolom 3) dari data:\n",
        "   X = data[[0, 1, 2]]\n",
        "   y = data[[3]]\n",
        "\n",
        "3. Pisahkan data berdasarkan label:\n",
        "   X_1 = Ambil baris dari data di mana labelnya adalah 1 dan kolomnya adalah [0, 1, 2]\n",
        "   X_2 = Ambil baris dari data di mana labelnya adalah 0 dan kolomnya adalah [0, 1, 2]\n",
        "\n",
        "4. Cetak pesan 'TESTCASE - 2'\n",
        "\n",
        "5. Panggil fungsi fisher(X_1, X_2, X, y.values, \"a1_d2\") untuk menjalankan algoritma Fisher Linear Discriminant.\n",
        "\n",
        "6. Fungsi fisher(X_1, X_2, X, y, filename): \\\n",
        "   a. Hitung mean dari masing-masing kelas: mean_1, mean_2 \\\n",
        "   b. Hitung scatter matrices: S_1, S_2 \\\n",
        "   c. Hitung within-class scatter matrix: Sw = S_1 + S_2 \\\n",
        "   d. Hitung between-class scatter matrix: Sb = (mean_1 - mean_2) * (mean_1 - mean_2).T \\\n",
        "   e. Hitung eigenvectors dan eigenvalues dari matriks (Sw^-1) * Sb \\\n",
        "   f. Pilih eigenvector dengan eigenvalue terbesar sebagai vektor proyeksi W \\\n",
        "   g. Lakukan proyeksi data ke dalam ruang 1D menggunakan vektor proyeksi W \\\n",
        "   h. Hitung threshold menggunakan mean proyeksi data dari masing-masing kelas \\\n",
        "   i. Hitung akurasi, presisi, recall, dan F-score dari hasil prediksi \\\n",
        "   j. Simpan hasil evaluasi dan model ke dalam file dengan nama \"filename_evaluation.txt\" dan \"filename_model.txt\" respectively \n"
      ]
    },
    {
      "cell_type": "markdown",
      "metadata": {
        "id": "ll9laX5i1tCG"
      },
      "source": [
        "## Perceptron"
      ]
    },
    {
      "cell_type": "code",
      "execution_count": 65,
      "metadata": {
        "id": "5wLJiEGK2W0w"
      },
      "outputs": [],
      "source": [
        "import numpy as np\n",
        "import pandas as pd\n",
        "import matplotlib.pyplot as plt"
      ]
    },
    {
      "cell_type": "code",
      "execution_count": 66,
      "metadata": {},
      "outputs": [
        {
          "name": "stdout",
          "output_type": "stream",
          "text": [
            "       0    1    2    3               4\n",
            "0    5.1  3.5  1.4  0.2     Iris-setosa\n",
            "1    4.9  3.0  1.4  0.2     Iris-setosa\n",
            "2    4.7  3.2  1.3  0.2     Iris-setosa\n",
            "3    4.6  3.1  1.5  0.2     Iris-setosa\n",
            "4    5.0  3.6  1.4  0.2     Iris-setosa\n",
            "..   ...  ...  ...  ...             ...\n",
            "145  6.7  3.0  5.2  2.3  Iris-virginica\n",
            "146  6.3  2.5  5.0  1.9  Iris-virginica\n",
            "147  6.5  3.0  5.2  2.0  Iris-virginica\n",
            "148  6.2  3.4  5.4  2.3  Iris-virginica\n",
            "149  5.9  3.0  5.1  1.8  Iris-virginica\n",
            "\n",
            "[150 rows x 5 columns]\n"
          ]
        }
      ],
      "source": [
        "def load_data():\n",
        "    URL_=\"https://archive.ics.uci.edu/ml/machine-learning-databases/iris/iris.data\"\n",
        "    data = pd.read_csv(URL_, header =None)\n",
        "    print(data)\n",
        "\n",
        "\n",
        "    #membuat dataset dapat dipisahkan secara linear\n",
        "    data = data[:100]\n",
        "    data[4] = np.where(data.iloc[:, -1]==\"Iris-setosa\",0,1)\n",
        "    data= np.asmatrix(data, dtype= \"float64\")\n",
        "    return data\n",
        "data= load_data()"
      ]
    },
    {
      "cell_type": "code",
      "execution_count": 67,
      "metadata": {},
      "outputs": [
        {
          "data": {
            "image/png": "[encoded data removed]",
            "text/plain": [
              "<Figure size 640x480 with 1 Axes>"
            ]
          },
          "metadata": {},
          "output_type": "display_data"
        }
      ],
      "source": [
        "plt.scatter(np.array(data[:50,0]), np.array(data[:50,2]), marker=\"o\", label =\"setosa\")\n",
        "plt.scatter(np.array(data[50:,0]), np.array(data[50:,2]), marker=\"x\", label =\"versicolor\")\n",
        "plt.xlabel(\"petal lenght\")\n",
        "plt.ylabel(\"sepal lenght\")\n",
        "plt.legend()\n",
        "plt.show()"
      ]
    },
    {
      "cell_type": "code",
      "execution_count": 68,
      "metadata": {},
      "outputs": [],
      "source": [
        "def percepton(data, num_iter):\n",
        "    features = data[:, :-1]\n",
        "    labels = data[:, -1]\n",
        "    # Inisialisasi bobot ke nol\n",
        "    w = np.zeros(shape=(1, features.shape[1]+1))\n",
        "    misclassified_ = []\n",
        "    for epoch in range(num_iter):\n",
        "        misclassified = 0\n",
        "        for x, label in zip(features, labels):\n",
        "            x = np.insert(x, 0, 1)\n",
        "            y = np.dot(w, x.transpose())\n",
        "            target = 0.1 if (y > 0) else 0.0\n",
        "\n",
        "\n",
        "            delta =(label.item(0,0) - target)\n",
        "           \n",
        "            if delta:  # Misclassified\n",
        "                misclassified += 1\n",
        "                w += delta * x\n",
        "\n",
        "\n",
        "        misclassified_.append(misclassified)\n",
        "    return w, misclassified_\n",
        "\n",
        "\n",
        "# Contoh penggunaan\n",
        "num_iter = 10\n",
        "w, misclassified_ = percepton(data, num_iter)"
      ]
    },
    {
      "cell_type": "code",
      "execution_count": 69,
      "metadata": {},
      "outputs": [
        {
          "data": {
            "image/png": "[encoded data removed]",
            "text/plain": [
              "<Figure size 640x480 with 1 Axes>"
            ]
          },
          "metadata": {},
          "output_type": "display_data"
        }
      ],
      "source": [
        "epochs = np.arange (1, num_iter+1)\n",
        "plt.plot(epochs, misclassified_)\n",
        "plt.xlabel(\"iterations\")\n",
        "plt.ylabel(\"misclassified\")\n",
        "plt.show()"
      ]
    },
    {
      "cell_type": "markdown",
      "metadata": {},
      "source": [
        "# Latihan"
      ]
    },
    {
      "cell_type": "markdown",
      "metadata": {},
      "source": [
        "### Buatlah Pseudo code dari code diatas dan buatlah flowchartnya"
      ]
    },
    {
      "cell_type": "markdown",
      "metadata": {},
      "source": [
        "1. Function load_data():\\\n",
        "   a. Ambil data dari URL \"https://archive.ics.uci.edu/ml/machine-learning-databases/iris/iris.data\". \\\n",
        "   b. Batasi data hanya untuk dua kelas pertama (Iris-setosa dan Iris-versicolor). \\\n",
        "   c. Ubah label Iris-setosa menjadi 0 dan Iris-versicolor menjadi 1.\\\n",
        "   d. Return data yang telah dimodifikasi dalam bentuk matriks.\n",
        "\n",
        "2. Function percepton(data, num_iter):\\\n",
        "   a. Ambil fitur-fitur dan label-label dari data.\\\n",
        "   b. Inisialisasi bobot (w) ke nilai nol.\\\n",
        "   c. Inisialisasi list kosong untuk menyimpan jumlah data yang salah klasifikasi pada setiap iterasi (misclassified_).\\\n",
        "   d. Loop sebanyak num_iter kali:\\\n",
        "      i. Inisialisasi variabel misclassified ke 0.\\\n",
        "      ii. Loop untuk setiap data dalam features dan labels:\\\n",
        "          - Tambahkan nilai 1 di awal fitur (x).\\\n",
        "          - Hitung nilai output (y) dengan mengalikan bobot (w) dengan fitur (x).\\\n",
        "          - Tentukan nilai target sesuai dengan fungsi aktivasi (0.1 jika y > 0, 0.0 jika tidak).\\\n",
        "          - Hitung selisih (delta) antara label aktual dan target.\\\n",
        "          - Jika delta tidak sama dengan 0 (data salah klasifikasi):\\\n",
        "              - Tingkatkan misclassified.\\\n",
        "              - Perbarui bobot (w) dengan menambahkan delta dikali dengan fitur (x).\\\n",
        "      iii. Tambahkan nilai misclassified ke dalam list misclassified_.\\\n",
        "   e. Return bobot (w) dan list misclassified_.\n",
        "\n",
        "3. Contoh penggunaan:\\\n",
        "   a. Tentukan jumlah iterasi (num_iter) yang diinginkan.\\\n",
        "   b. Panggil function percepton(data, num_iter) untuk mendapatkan bobot (w) dan list misclassified_.\\\n",
        "   c. Buat array epochs dari 1 hingga num_iter.\\\n",
        "   d. Plot grafik jumlah data yang salah klasifikasi terhadap iterasi menggunakan plt.plot(epochs, misclassified_).\\\n",
        "   e. Tampilkan grafik dengan label sumbu x \"iterations\" dan label sumbu y \"misclassified\".\\\n",
        "   f. Selesai.\n"
      ]
    },
    {
      "cell_type": "markdown",
      "metadata": {},
      "source": [
        "### Buatlah code dan flowchart untuk klasifikasi untuk iris virginica dan versicolor!"
      ]
    },
    {
      "cell_type": "code",
      "execution_count": 71,
      "metadata": {},
      "outputs": [
        {
          "name": "stdout",
          "output_type": "stream",
          "text": [
            "       0    1    2    3               4\n",
            "0    5.1  3.5  1.4  0.2     Iris-setosa\n",
            "1    4.9  3.0  1.4  0.2     Iris-setosa\n",
            "2    4.7  3.2  1.3  0.2     Iris-setosa\n",
            "3    4.6  3.1  1.5  0.2     Iris-setosa\n",
            "4    5.0  3.6  1.4  0.2     Iris-setosa\n",
            "..   ...  ...  ...  ...             ...\n",
            "145  6.7  3.0  5.2  2.3  Iris-virginica\n",
            "146  6.3  2.5  5.0  1.9  Iris-virginica\n",
            "147  6.5  3.0  5.2  2.0  Iris-virginica\n",
            "148  6.2  3.4  5.4  2.3  Iris-virginica\n",
            "149  5.9  3.0  5.1  1.8  Iris-virginica\n",
            "\n",
            "[150 rows x 5 columns]\n"
          ]
        }
      ],
      "source": [
        "def load_data():\n",
        "    URL_=\"https://archive.ics.uci.edu/ml/machine-learning-databases/iris/iris.data\"\n",
        "    data = pd.read_csv(URL_, header =None)\n",
        "    print(data)\n",
        "\n",
        "\n",
        "    #membuat dataset dapat dipisahkan secara linear\n",
        "    data = data[50:]\n",
        "    data[4] = np.where(data.iloc[:, -1]==\"Iris-virginica\",0,1)\n",
        "    data= np.asmatrix(data, dtype= \"float64\")\n",
        "    return data\n",
        "data= load_data()"
      ]
    },
    {
      "cell_type": "code",
      "execution_count": 72,
      "metadata": {},
      "outputs": [
        {
          "data": {
            "image/png": "[encoded data removed]",
            "text/plain": [
              "<Figure size 640x480 with 1 Axes>"
            ]
          },
          "metadata": {},
          "output_type": "display_data"
        }
      ],
      "source": [
        "plt.scatter(np.array(data[50:,0]), np.array(data[50:,2]), marker=\"o\", label =\"virginica\")\n",
        "plt.scatter(np.array(data[:50,0]), np.array(data[:50,2]), marker=\"x\", label =\"versicolor\")\n",
        "plt.xlabel(\"petal lenght\")\n",
        "plt.ylabel(\"sepal lenght\")\n",
        "plt.legend()\n",
        "plt.show()"
      ]
    },
    {
      "cell_type": "code",
      "execution_count": 73,
      "metadata": {},
      "outputs": [],
      "source": [
        "def percepton(data, num_iter):\n",
        "    features = data[:, :-1]\n",
        "    labels = data[:, -1]\n",
        "    # Inisialisasi bobot ke nol\n",
        "    w = np.zeros(shape=(1, features.shape[1]+1))\n",
        "    misclassified_ = []\n",
        "    for epoch in range(num_iter):\n",
        "        misclassified = 0\n",
        "        for x, label in zip(features, labels):\n",
        "            x = np.insert(x, 0, 1)\n",
        "            y = np.dot(w, x.transpose())\n",
        "            target = 0.1 if (y > 0) else 0.0\n",
        "\n",
        "\n",
        "            delta =(label.item(0,0) - target)\n",
        "           \n",
        "            if delta:  # Misclassified\n",
        "                misclassified += 1\n",
        "                w += delta * x\n",
        "\n",
        "\n",
        "        misclassified_.append(misclassified)\n",
        "    return w, misclassified_\n",
        "\n",
        "\n",
        "# Contoh penggunaan\n",
        "num_iter = 10\n",
        "w, misclassified_ = percepton(data, num_iter)"
      ]
    },
    {
      "cell_type": "code",
      "execution_count": 74,
      "metadata": {},
      "outputs": [
        {
          "data": {
            "image/png": "[encoded data removed]",
            "text/plain": [
              "<Figure size 640x480 with 1 Axes>"
            ]
          },
          "metadata": {},
          "output_type": "display_data"
        }
      ],
      "source": [
        "epochs = np.arange (1, num_iter+1)\n",
        "plt.plot(epochs, misclassified_)\n",
        "plt.xlabel(\"iterations\")\n",
        "plt.ylabel(\"misclassified\")\n",
        "plt.show()"
      ]
    },
    {
      "cell_type": "markdown",
      "metadata": {},
      "source": [
        "### Dan buatlah persamaan fungsi deskriminan dari pemograman diatas dengan penggambaran geometry fungsi deskriminan."
      ]
    },
    {
      "cell_type": "code",
      "execution_count": 102,
      "metadata": {},
      "outputs": [
        {
          "data": {
            "image/png": "[encoded data removed]",
            "text/plain": [
              "<Figure size 640x480 with 1 Axes>"
            ]
          },
          "metadata": {},
          "output_type": "display_data"
        }
      ],
      "source": [
        "# Menggunakan nilai w0, w1, dan w2 yang telah dipelajari\n",
        "w0 = w[0, 0]\n",
        "w1 = w[0, 1]\n",
        "w2 = w[0, 2]\n",
        "\n",
        "# Menggambar garis pemisah (fungsi diskriminan) dalam scatter plot\n",
        "x_vals = np.linspace(data[:, 2].min(), data[:, 2].max(), 100)  # Range x (petal length)\n",
        "y_vals = (w0 + w1 * x_vals) / w2  # Menghitung nilai y (sepal length) berdasarkan fungsi diskriminan\n",
        "\n",
        "plt.scatter(np.array(data[50:, 0]), np.array(data[50:, 2]), marker=\"o\", label=\"virginica\")\n",
        "plt.scatter(np.array(data[:50, 0]), np.array(data[:50, 2]), marker=\"x\", label=\"versicolor\")\n",
        "plt.plot(x_vals, y_vals, color='red', label='Decision Boundary')\n",
        "plt.xlabel(\"petal length\")\n",
        "plt.ylabel(\"sepal length\")\n",
        "plt.legend()\n",
        "plt.show()\n",
        "\n"
      ]
    },
    {
      "cell_type": "markdown",
      "metadata": {
        "id": "VVYDqsNL32yF"
      },
      "source": [
        "# B. Model Probabilistik"
      ]
    },
    {
      "cell_type": "markdown",
      "metadata": {
        "id": "4V_JDxzF4dSY"
      },
      "source": [
        "## Pendekatan Diskriminatif"
      ]
    },
    {
      "cell_type": "code",
      "execution_count": null,
      "metadata": {
        "id": "Qwu3kgYR4Qve"
      },
      "outputs": [],
      "source": [
        "# Mengimpor library\n",
        "import numpy as np\n",
        "import matplotlib.pyplot as plt\n",
        "import pandas as pd\n",
        "\n",
        "\n",
        "# Mengimpor dataset\n",
        "dataset = pd.read_csv('D:\\KULIAH/Semester 5/PM/Iklan_sosmed.csv')\n",
        "x = dataset.iloc[:, [2, 3]].values\n",
        "y = dataset.iloc[:, 4].values\n",
        "\n",
        "\n",
        "# Membagi data ke dalam training dan test set\n",
        "from sklearn.model_selection import train_test_split\n",
        "X_train, X_test, y_train, y_test = train_test_split(x, y, test_size=0.25, random_state=0)\n",
        "\n",
        "\n",
        "# Feature scaling\n",
        "from sklearn.preprocessing import StandardScaler\n",
        "sc = StandardScaler()\n",
        "X_train = sc.fit_transform(X_train)\n",
        "X_test = sc.transform(X_test)\n",
        "\n",
        "\n",
        "# Membuat model regresi logistik dari training set\n",
        "from sklearn.linear_model import LogisticRegression  # Perbaiki penulisan 'linier' menjadi 'linear'\n",
        "classifier = LogisticRegression(random_state=0)\n",
        "classifier.fit(X_train, y_train)\n"
      ]
    },
    {
      "cell_type": "code",
      "execution_count": null,
      "metadata": {},
      "outputs": [],
      "source": [
        "# Memprediksi hasil modelnya ke test set\n",
        "y_pred = classifier.predict(X_test)\n",
        "\n",
        "\n",
        "# Membuat confusion matrix\n",
        "from sklearn.metrics import confusion_matrix  \n",
        "cm = confusion_matrix(y_test, y_pred)\n",
        "\n",
        "\n",
        "# Memvisualisasikan hasil training set\n",
        "from matplotlib.colors import ListedColormap\n",
        "X_set, y_set = X_train, y_train\n",
        "X1, X2 = np.meshgrid(np.arange(start = X_set[:, 0].min() - 1, stop = X_set[:, 0].max() + 1, step = 0.01),\n",
        "                     np.arange(start = X_set[:, 1].min() - 1, stop = X_set[:, 1].max() + 1, step = 0.01))\n",
        "plt.contourf(X1, X2, classifier.predict(np.array([X1.ravel(), X2.ravel()]).T).reshape(X1.shape),\n",
        "            alpha = 0.75, cmap = ListedColormap(('red', 'green')))\n",
        "plt.xlim(X1.min(), X1.max())\n",
        "plt.ylim(X2.min(), X2.max())\n",
        "for i, j in enumerate(np.unique(y_set)):\n",
        "    plt.scatter(X_set[y_set == j, 0], X_set[y_set == j, 1],\n",
        "                c = ListedColormap(('red', 'green'))(i), label = j)\n",
        "plt.title('Logistic Regression (Training set)')\n",
        "plt.xlabel('Usia')\n",
        "plt.ylabel('Estimasi Gaji')\n",
        "plt.legend()\n",
        "plt.show()\n"
      ]
    },
    {
      "cell_type": "code",
      "execution_count": null,
      "metadata": {},
      "outputs": [],
      "source": [
        "# Memvisualisasikan hasil test set\n",
        "from matplotlib.colors import ListedColormap\n",
        "X_set, y_set = X_test, y_test\n",
        "X1, X2 = np.meshgrid(np.arange(start = X_set[:, 0].min() - 1, stop = X_set[:, 0].max() + 1, step = 0.01),\n",
        "                     np.arange(start = X_set[:, 1].min() - 1, stop = X_set[:, 1].max() + 1, step = 0.01))\n",
        "plt.contourf(X1, X2, classifier.predict(np.array([X1.ravel(), X2.ravel()]).T).reshape(X1.shape),\n",
        "            alpha = 0.75, cmap = ListedColormap(('red', 'green')))\n",
        "plt.xlim(X1.min(), X1.max())\n",
        "plt.ylim(X2.min(), X2.max())\n",
        "for i, j in enumerate(np.unique(y_set)):\n",
        "    plt.scatter(X_set[y_set == j, 0], X_set[y_set == j, 1],\n",
        "                c = ListedColormap(('red', 'green'))(i), label = j)\n",
        "plt.title('Logistic Regression (Test set)')\n",
        "plt.xlabel('Usia')\n",
        "plt.ylabel('Estimasi Gaji')\n",
        "plt.legend()\n",
        "plt.show()\n"
      ]
    },
    {
      "cell_type": "markdown",
      "metadata": {},
      "source": [
        "# Latihan"
      ]
    },
    {
      "cell_type": "markdown",
      "metadata": {},
      "source": [
        "### Tuliskan perumusan matematis fungsi sigmoid yang ada di regresi logistik?"
      ]
    },
    {
      "cell_type": "markdown",
      "metadata": {},
      "source": [
        "### Tuliskan Pseudocode dari code diatas!"
      ]
    },
    {
      "cell_type": "markdown",
      "metadata": {},
      "source": [
        "1. Mengimpor library numpy, matplotlib.pyplot, dan pandas\n",
        "2. Mengimpor dataset dari file CSV 'D:\\KULIAH/Semester 5/PM/Iklan_sosmed.csv' ke dalam variabel dataset\n",
        "3. Memisahkan fitur (kolom 2 dan 3) dan target (kolom 4) dari dataset ke dalam variabel x dan y\n",
        "4. Membagi data ke dalam training set dan test set (75% training, 25% test) menggunakan train_test_split dari sklearn\n",
        "5. Melakukan feature scaling pada data training dan test menggunakan StandardScaler dari sklearn\n",
        "6. Membuat objek model regresi logistik menggunakan LogisticRegression dari sklearn\n",
        "7. Melatih model menggunakan training set (X_train, y_train) dengan menggunakan metode fit pada objek model\n",
        "8. Menguji model menggunakan test set (X_test) dengan menggunakan metode predict pada objek model\n",
        "9. Menghitung confusion matrix menggunakan confusion_matrix dari sklearn dengan input y_test dan y_pred\n",
        "10. Memvisualisasikan hasil training set pada grafik:\n",
        "    a. Menggunakan meshgrid untuk membuat grid nilai X1 dan X2\n",
        "    b. Menggunakan model untuk memprediksi nilai pada grid (X1, X2) dan menghasilkan prediksi warna menggunakan ListedColormap\n",
        "    c. Menampilkan scatter plot data training set pada grafik dengan warna merah (0) dan hijau (1)\n",
        "    d. Menampilkan label sumbu X sebagai \"Usia\" dan label sumbu Y sebagai \"Estimasi Gaji\"\n",
        "11. Menampilkan grafik hasil training set\n",
        "12. Memvisualisasikan hasil test set pada grafik (langkah 10 dengan menggunakan data test set)\n",
        "13. Menampilkan grafik hasil test set\n"
      ]
    },
    {
      "cell_type": "markdown",
      "metadata": {},
      "source": [
        "## Pendekatan Generatif"
      ]
    },
    {
      "cell_type": "code",
      "execution_count": null,
      "metadata": {},
      "outputs": [],
      "source": [
        "# import linrray yang diperlukan\n",
        "import numpy as np\n",
        "import matplotlib.pyplot as plt\n",
        "import pandas as pd\n",
        "\n",
        "\n",
        "# mengimport dataset\n",
        "dataset = pd.read_csv('Iklan_sosmed.csv')\n",
        "x = dataset.iloc[:, [2, 3]].values\n",
        "y = dataset.iloc[:, 4].values\n",
        "\n",
        "\n",
        "# menjadikam dataset ke dalam training set dan test set\n",
        "from sklearn.model_selection import train_test_split\n",
        "x_train, x_test, y_train, y_test = train_test_split(x, y, test_size = 0.25, random_state = 0)\n",
        "\n",
        "\n",
        "# feature scaling\n",
        "from sklearn.preprocessing import StandardScaler\n",
        "sc = StandardScaler()\n",
        "x_train = sc.fit_transform(x_train)\n",
        "x_test = sc.fit_transform(x_test)"
      ]
    },
    {
      "cell_type": "code",
      "execution_count": null,
      "metadata": {},
      "outputs": [],
      "source": [
        "# membuat model naive bayes terhadap training set\n",
        "from sklearn.naive_bayes import GaussianNB\n",
        "classifier = GaussianNB()\n",
        "classifier.fit(x_train, y_train)\n",
        "\n",
        "\n",
        "# memprediksi hasil test set\n",
        "y_pred = classifier.predict(x_test)\n",
        "\n",
        "\n",
        "# membuat confusion matrix\n",
        "from sklearn.metrics import confusion_matrix\n",
        "cm = confusion_matrix(y_test, y_pred)\n",
        "\n",
        "\n",
        "# visualisasi hasil model naive bayes dari training set\n",
        "from matplotlib.colors import ListedColormap\n",
        "x_set, y_set, = x_train, y_train\n",
        "X1, X2 = np.meshgrid(np.arange(start = x_set[:, 0].min() - 1, stop = x_set[:, 0].max() + 1, step = 0.01),\n",
        "                     np.arange(start = x_set[:, 1].min() - 1, stop = x_set[:, 1].max() + 1, step = 0.01))\n",
        "plt.contourf(X1, X2, classifier.predict(np.array([X1.ravel(), X2.ravel()]).T).reshape(X1.shape),\n",
        "             alpha = 0.75, cmap = ListedColormap(('red', 'green')))\n",
        "plt.xlim(X1.min(), X1.max())\n",
        "plt.ylim(X2.min(), X2.max())\n",
        "for i, j in enumerate(np.unique(y_set)):\n",
        "  plt.scatter(x_set[y_set == j, 0], x_set[y_set == j, 1],\n",
        "              c = ListedColormap(('red', 'green'))(i), label = j)\n",
        "plt.title('Naive Bayes (Training set)')\n",
        "plt.xlabel('Usia')\n",
        "plt.ylabel('Estimasi Gaji')\n",
        "plt.legend()\n",
        "plt.show()"
      ]
    },
    {
      "cell_type": "code",
      "execution_count": null,
      "metadata": {},
      "outputs": [],
      "source": [
        "# visualisasi hasil model Naive Bayes dari Tset set\n",
        "from matplotlib.colors import ListedColormap\n",
        "x_set, y_set, = x_test, y_test\n",
        "X1, X2 = np.meshgrid(np.arange(start = x_set[:, 0].min() - 1, stop = x_set[:, 0].max() + 1, step = 0.01),\n",
        "                     np.arange(start = x_set[:, 1].min() - 1, stop = x_set[:, 1].max() + 1, step = 0.01))\n",
        "plt.contourf(X1, X2, classifier.predict(np.array([X1.ravel(), X2.ravel()]).T).reshape(X1.shape),\n",
        "             alpha = 0.75, cmap = ListedColormap(('red', 'green')))\n",
        "plt.xlim(X1.min(), X1.max())\n",
        "plt.ylim(X2.min(), X2.max())\n",
        "for i, j in enumerate(np.unique(y_set)):\n",
        "  plt.scatter(x_set[y_set == j, 0], x_set[y_set == j, 1],\n",
        "              c = ListedColormap(('red', 'green'))(i), label = j)\n",
        "plt.title('Naive Bayes (Test set)')\n",
        "plt.xlabel('Usia')\n",
        "plt.ylabel('Estimasi Gaji')\n",
        "plt.legend()\n",
        "plt.show()\n"
      ]
    },
    {
      "cell_type": "markdown",
      "metadata": {},
      "source": [
        "### Jelaskan dan analisis decision boundery dari output yang diperoleh,"
      ]
    },
    {
      "cell_type": "markdown",
      "metadata": {},
      "source": []
    },
    {
      "cell_type": "markdown",
      "metadata": {},
      "source": [
        "### Buatlah Pseudo code dan flowchart dari code diatas!"
      ]
    },
    {
      "cell_type": "markdown",
      "metadata": {},
      "source": [
        "1. Import library yang diperlukan:\n",
        "   - import numpy as np\n",
        "   - import matplotlib.pyplot as plt\n",
        "   - import pandas as pd\n",
        "\n",
        "2. Membaca dataset dari file CSV:\n",
        "   - dataset = pd.read_csv('Iklan_sosmed.csv')\n",
        "   - x = dataset.iloc[:, [2, 3]].values\n",
        "   - y = dataset.iloc[:, 4].values\n",
        "\n",
        "3. Membagi dataset menjadi training set dan test set:\n",
        "   - from sklearn.model_selection import train_test_split\n",
        "   - x_train, x_test, y_train, y_test = train_test_split(x, y, test_size=0.25, random_state=0)\n",
        "\n",
        "4. Melakukan feature scaling:\n",
        "   - from sklearn.preprocessing import StandardScaler\n",
        "   - sc = StandardScaler()\n",
        "   - x_train = sc.fit_transform(x_train)\n",
        "   - x_test = sc.fit_transform(x_test)\n",
        "\n",
        "5. Membuat model Naive Bayes terhadap training set:\n",
        "   - from sklearn.naive_bayes import GaussianNB\n",
        "   - classifier = GaussianNB()\n",
        "   - classifier.fit(x_train, y_train)\n",
        "\n",
        "6. Melakukan prediksi terhadap test set:\n",
        "   - y_pred = classifier.predict(x_test)\n",
        "\n",
        "7. Membuat confusion matrix untuk evaluasi hasil prediksi:\n",
        "   - from sklearn.metrics import confusion_matrix\n",
        "   - cm = confusion_matrix(y_test, y_pred)\n",
        "\n",
        "8. Visualisasi hasil model Naive Bayes terhadap training set:\n",
        "   - from matplotlib.colors import ListedColormap\n",
        "   - x_set, y_set = x_train, y_train\n",
        "   - X1, X2 = Membuat meshgrid untuk plotting decision boundary.\n",
        "   - Membuat contour plot dengan warna berdasarkan prediksi model terhadap meshgrid.\n",
        "   - Scatter plot untuk data training set dengan warna berbeda untuk setiap kelas.\n",
        "   - Menampilkan judul, label sumbu, dan legenda pada grafik.\n",
        "\n",
        "9. Visualisasi hasil model Naive Bayes terhadap test set:\n",
        "   - from matplotlib.colors import ListedColormap\n",
        "   - x_set, y_set = x_test, y_test\n",
        "   - X1, X2 = Membuat meshgrid untuk plotting decision boundary.\n",
        "   - Membuat contour plot dengan warna berdasarkan prediksi model terhadap meshgrid.\n",
        "   - Scatter plot untuk data test set dengan warna berbeda untuk setiap kelas.\n",
        "   - Menampilkan judul, label sumbu, dan legenda pada grafik.\n",
        "\n",
        "10. Selesai.\n"
      ]
    },
    {
      "cell_type": "markdown",
      "metadata": {},
      "source": [
        "### Jelaskan kesimoulan dari output yang diperoleh dari studi kasus metode ini! Seberapa sukses iklan"
      ]
    },
    {
      "cell_type": "markdown",
      "metadata": {},
      "source": []
    }
  ],
  "metadata": {
    "colab": {
      "provenance": []
    },
    "kernelspec": {
      "display_name": "Python 3",
      "name": "python3"
    },
    "language_info": {
      "codemirror_mode": {
        "name": "ipython",
        "version": 3
      },
      "file_extension": ".py",
      "mimetype": "text/x-python",
      "name": "python",
      "nbconvert_exporter": "python",
      "pygments_lexer": "ipython3",
      "version": "3.9.7"
    }
  },
  "nbformat": 4,
  "nbformat_minor": 0
}
