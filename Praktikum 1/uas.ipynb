{
 "metadata": {
  "language_info": {
   "codemirror_mode": {
    "name": "ipython",
    "version": 3
   },
   "file_extension": ".py",
   "mimetype": "text/x-python",
   "name": "python",
   "nbconvert_exporter": "python",
   "pygments_lexer": "ipython3",
   "version": "3.9.5"
  },
  "orig_nbformat": 4,
  "kernelspec": {
   "name": "python3",
   "display_name": "Python 3.9.5 64-bit"
  },
  "interpreter": {
   "hash": "8b03d4cd05d71d535371b426da57de743181e37d8974a9636efe6e78873daaed"
  }
 },
 "nbformat": 4,
 "nbformat_minor": 2,
 "cells": [
  {
   "cell_type": "code",
   "execution_count": 1,
   "metadata": {},
   "outputs": [],
   "source": [
    "import pandas as pd"
   ]
  },
  {
   "cell_type": "code",
   "execution_count": 4,
   "metadata": {},
   "outputs": [],
   "source": [
    "df = pd.read_csv('dataset.csv')\n",
    "df = df[['Brand', 'Stars']]\n",
    "\n",
    "\n",
    "df = df[(df.Stars != 'NR') & (df.Stars != 'NS') & (df.Stars != 'Unrated')]\n",
    "df = df[df[\"Stars\"].str.contains(\"/\")==False]\n",
    "\n",
    "df['Stars'] = df['Stars'].astype(float)"
   ]
  },
  {
   "cell_type": "code",
   "execution_count": 5,
   "metadata": {},
   "outputs": [
    {
     "output_type": "execute_result",
     "data": {
      "text/plain": [
       "array([5.   , 3.75 , 4.   , 4.5  , 1.   , 0.   , 2.5  , 2.   , 3.5  ,\n",
       "       3.   , 3.25 , 1.5  , 4.25 , 0.25 , 2.25 , 2.75 , 0.5  , 4.75 ,\n",
       "       1.25 , 1.75 , 0.75 , 1.1  , 2.1  , 0.9  , 3.1  , 4.125, 3.125,\n",
       "       2.125, 2.9  , 0.1  , 2.8  , 3.7  , 3.4  , 3.6  , 2.85 , 2.3  ,\n",
       "       3.2  , 3.65 , 1.8  ])"
      ]
     },
     "metadata": {},
     "execution_count": 5
    }
   ],
   "source": [
    "df['Stars'].unique()"
   ]
  },
  {
   "cell_type": "code",
   "execution_count": 6,
   "metadata": {},
   "outputs": [],
   "source": [
    "df2 = df.groupby(['Brand']).agg(['mean','count'])"
   ]
  },
  {
   "cell_type": "code",
   "execution_count": 7,
   "metadata": {},
   "outputs": [
    {
     "output_type": "execute_result",
     "data": {
      "text/plain": [
       "                   Stars      \n",
       "                    mean count\n",
       "Brand                         \n",
       "1 To 3 Noodles     4.000     1\n",
       "7 Select           3.625     2\n",
       "7 Select/Nissin    3.500     1\n",
       "7-Eleven / Nissin  4.250     1\n",
       "A-One              2.750     4\n",
       "...                  ...   ...\n",
       "Zombear            4.500     1\n",
       "Zow Zow            3.750     1\n",
       "iMee               3.500     4\n",
       "iNoodle            3.000     2\n",
       "nunu               3.500     1\n",
       "\n",
       "[509 rows x 2 columns]"
      ],
      "text/html": "<div>\n<style scoped>\n    .dataframe tbody tr th:only-of-type {\n        vertical-align: middle;\n    }\n\n    .dataframe tbody tr th {\n        vertical-align: top;\n    }\n\n    .dataframe thead tr th {\n        text-align: left;\n    }\n\n    .dataframe thead tr:last-of-type th {\n        text-align: right;\n    }\n</style>\n<table border=\"1\" class=\"dataframe\">\n  <thead>\n    <tr>\n      <th></th>\n      <th colspan=\"2\" halign=\"left\">Stars</th>\n    </tr>\n    <tr>\n      <th></th>\n      <th>mean</th>\n      <th>count</th>\n    </tr>\n    <tr>\n      <th>Brand</th>\n      <th></th>\n      <th></th>\n    </tr>\n  </thead>\n  <tbody>\n    <tr>\n      <th>1 To 3 Noodles</th>\n      <td>4.000</td>\n      <td>1</td>\n    </tr>\n    <tr>\n      <th>7 Select</th>\n      <td>3.625</td>\n      <td>2</td>\n    </tr>\n    <tr>\n      <th>7 Select/Nissin</th>\n      <td>3.500</td>\n      <td>1</td>\n    </tr>\n    <tr>\n      <th>7-Eleven / Nissin</th>\n      <td>4.250</td>\n      <td>1</td>\n    </tr>\n    <tr>\n      <th>A-One</th>\n      <td>2.750</td>\n      <td>4</td>\n    </tr>\n    <tr>\n      <th>...</th>\n      <td>...</td>\n      <td>...</td>\n    </tr>\n    <tr>\n      <th>Zombear</th>\n      <td>4.500</td>\n      <td>1</td>\n    </tr>\n    <tr>\n      <th>Zow Zow</th>\n      <td>3.750</td>\n      <td>1</td>\n    </tr>\n    <tr>\n      <th>iMee</th>\n      <td>3.500</td>\n      <td>4</td>\n    </tr>\n    <tr>\n      <th>iNoodle</th>\n      <td>3.000</td>\n      <td>2</td>\n    </tr>\n    <tr>\n      <th>nunu</th>\n      <td>3.500</td>\n      <td>1</td>\n    </tr>\n  </tbody>\n</table>\n<p>509 rows × 2 columns</p>\n</div>"
     },
     "metadata": {},
     "execution_count": 7
    }
   ],
   "source": [
    "df2"
   ]
  },
  {
   "cell_type": "code",
   "execution_count": 29,
   "metadata": {},
   "outputs": [],
   "source": [
    "df3 = df2[(df2.Stars['count'] >50)]"
   ]
  },
  {
   "cell_type": "code",
   "execution_count": 30,
   "metadata": {},
   "outputs": [
    {
     "output_type": "execute_result",
     "data": {
      "text/plain": [
       "                    Stars      \n",
       "                     mean count\n",
       "Brand                          \n",
       "Samyang Foods    4.099490    98\n",
       "Indomie          4.089286    56\n",
       "Paldo            4.040625    80\n",
       "Nongshim         4.032328   116\n",
       "Nissin           3.894272   467\n",
       "Myojo            3.848485    99\n",
       "Sapporo Ichiban  3.785714    56\n",
       "Mama             3.628873    71\n",
       "Maruchan         3.606151   126"
      ],
      "text/html": "<div>\n<style scoped>\n    .dataframe tbody tr th:only-of-type {\n        vertical-align: middle;\n    }\n\n    .dataframe tbody tr th {\n        vertical-align: top;\n    }\n\n    .dataframe thead tr th {\n        text-align: left;\n    }\n\n    .dataframe thead tr:last-of-type th {\n        text-align: right;\n    }\n</style>\n<table border=\"1\" class=\"dataframe\">\n  <thead>\n    <tr>\n      <th></th>\n      <th colspan=\"2\" halign=\"left\">Stars</th>\n    </tr>\n    <tr>\n      <th></th>\n      <th>mean</th>\n      <th>count</th>\n    </tr>\n    <tr>\n      <th>Brand</th>\n      <th></th>\n      <th></th>\n    </tr>\n  </thead>\n  <tbody>\n    <tr>\n      <th>Samyang Foods</th>\n      <td>4.099490</td>\n      <td>98</td>\n    </tr>\n    <tr>\n      <th>Indomie</th>\n      <td>4.089286</td>\n      <td>56</td>\n    </tr>\n    <tr>\n      <th>Paldo</th>\n      <td>4.040625</td>\n      <td>80</td>\n    </tr>\n    <tr>\n      <th>Nongshim</th>\n      <td>4.032328</td>\n      <td>116</td>\n    </tr>\n    <tr>\n      <th>Nissin</th>\n      <td>3.894272</td>\n      <td>467</td>\n    </tr>\n    <tr>\n      <th>Myojo</th>\n      <td>3.848485</td>\n      <td>99</td>\n    </tr>\n    <tr>\n      <th>Sapporo Ichiban</th>\n      <td>3.785714</td>\n      <td>56</td>\n    </tr>\n    <tr>\n      <th>Mama</th>\n      <td>3.628873</td>\n      <td>71</td>\n    </tr>\n    <tr>\n      <th>Maruchan</th>\n      <td>3.606151</td>\n      <td>126</td>\n    </tr>\n  </tbody>\n</table>\n</div>"
     },
     "metadata": {},
     "execution_count": 30
    }
   ],
   "source": [
    "df3 = df3.sort_values(by=('Stars', 'mean'), ascending=False)\n",
    "pd.options.display.max_rows = 300\n",
    "df3.head(65)"
   ]
  },
  {
   "cell_type": "code",
   "execution_count": 10,
   "metadata": {},
   "outputs": [],
   "source": [
    "test = df[(df.Brand == 'Samyang Foods') & ((df.Stars>3) & (df.Stars <= 4))]"
   ]
  },
  {
   "cell_type": "code",
   "execution_count": 11,
   "metadata": {},
   "outputs": [
    {
     "output_type": "execute_result",
     "data": {
      "text/plain": [
       "              Brand  Stars\n",
       "37    Samyang Foods   3.50\n",
       "39    Samyang Foods   3.50\n",
       "52    Samyang Foods   4.00\n",
       "202   Samyang Foods   4.00\n",
       "207   Samyang Foods   4.00\n",
       "216   Samyang Foods   4.00\n",
       "326   Samyang Foods   4.00\n",
       "366   Samyang Foods   3.50\n",
       "372   Samyang Foods   3.75\n",
       "426   Samyang Foods   3.50\n",
       "428   Samyang Foods   4.00\n",
       "461   Samyang Foods   4.00\n",
       "468   Samyang Foods   3.75\n",
       "491   Samyang Foods   4.00\n",
       "503   Samyang Foods   3.75\n",
       "539   Samyang Foods   3.75\n",
       "599   Samyang Foods   4.00\n",
       "686   Samyang Foods   3.50\n",
       "689   Samyang Foods   4.00\n",
       "690   Samyang Foods   3.75\n",
       "744   Samyang Foods   4.00\n",
       "805   Samyang Foods   3.25\n",
       "850   Samyang Foods   3.75\n",
       "853   Samyang Foods   3.75\n",
       "859   Samyang Foods   3.75\n",
       "965   Samyang Foods   3.75\n",
       "992   Samyang Foods   3.75\n",
       "997   Samyang Foods   4.00\n",
       "1049  Samyang Foods   3.75\n",
       "1076  Samyang Foods   4.00\n",
       "1105  Samyang Foods   3.75\n",
       "1106  Samyang Foods   4.00\n",
       "1109  Samyang Foods   4.00\n",
       "1110  Samyang Foods   4.00\n",
       "1182  Samyang Foods   3.50\n",
       "1203  Samyang Foods   3.75\n",
       "1372  Samyang Foods   4.00\n",
       "1839  Samyang Foods   3.50\n",
       "1925  Samyang Foods   3.75\n",
       "1975  Samyang Foods   3.50\n",
       "2043  Samyang Foods   4.00\n",
       "2101  Samyang Foods   3.75\n",
       "2201  Samyang Foods   3.50\n",
       "2223  Samyang Foods   3.75\n",
       "2292  Samyang Foods   4.00\n",
       "2313  Samyang Foods   3.75\n",
       "2360  Samyang Foods   3.50\n",
       "2443  Samyang Foods   3.75\n",
       "2445  Samyang Foods   4.00\n",
       "2446  Samyang Foods   4.00\n",
       "2447  Samyang Foods   3.75\n",
       "2448  Samyang Foods   3.75\n",
       "2454  Samyang Foods   4.00\n",
       "2456  Samyang Foods   3.75"
      ],
      "text/html": "<div>\n<style scoped>\n    .dataframe tbody tr th:only-of-type {\n        vertical-align: middle;\n    }\n\n    .dataframe tbody tr th {\n        vertical-align: top;\n    }\n\n    .dataframe thead th {\n        text-align: right;\n    }\n</style>\n<table border=\"1\" class=\"dataframe\">\n  <thead>\n    <tr style=\"text-align: right;\">\n      <th></th>\n      <th>Brand</th>\n      <th>Stars</th>\n    </tr>\n  </thead>\n  <tbody>\n    <tr>\n      <th>37</th>\n      <td>Samyang Foods</td>\n      <td>3.50</td>\n    </tr>\n    <tr>\n      <th>39</th>\n      <td>Samyang Foods</td>\n      <td>3.50</td>\n    </tr>\n    <tr>\n      <th>52</th>\n      <td>Samyang Foods</td>\n      <td>4.00</td>\n    </tr>\n    <tr>\n      <th>202</th>\n      <td>Samyang Foods</td>\n      <td>4.00</td>\n    </tr>\n    <tr>\n      <th>207</th>\n      <td>Samyang Foods</td>\n      <td>4.00</td>\n    </tr>\n    <tr>\n      <th>216</th>\n      <td>Samyang Foods</td>\n      <td>4.00</td>\n    </tr>\n    <tr>\n      <th>326</th>\n      <td>Samyang Foods</td>\n      <td>4.00</td>\n    </tr>\n    <tr>\n      <th>366</th>\n      <td>Samyang Foods</td>\n      <td>3.50</td>\n    </tr>\n    <tr>\n      <th>372</th>\n      <td>Samyang Foods</td>\n      <td>3.75</td>\n    </tr>\n    <tr>\n      <th>426</th>\n      <td>Samyang Foods</td>\n      <td>3.50</td>\n    </tr>\n    <tr>\n      <th>428</th>\n      <td>Samyang Foods</td>\n      <td>4.00</td>\n    </tr>\n    <tr>\n      <th>461</th>\n      <td>Samyang Foods</td>\n      <td>4.00</td>\n    </tr>\n    <tr>\n      <th>468</th>\n      <td>Samyang Foods</td>\n      <td>3.75</td>\n    </tr>\n    <tr>\n      <th>491</th>\n      <td>Samyang Foods</td>\n      <td>4.00</td>\n    </tr>\n    <tr>\n      <th>503</th>\n      <td>Samyang Foods</td>\n      <td>3.75</td>\n    </tr>\n    <tr>\n      <th>539</th>\n      <td>Samyang Foods</td>\n      <td>3.75</td>\n    </tr>\n    <tr>\n      <th>599</th>\n      <td>Samyang Foods</td>\n      <td>4.00</td>\n    </tr>\n    <tr>\n      <th>686</th>\n      <td>Samyang Foods</td>\n      <td>3.50</td>\n    </tr>\n    <tr>\n      <th>689</th>\n      <td>Samyang Foods</td>\n      <td>4.00</td>\n    </tr>\n    <tr>\n      <th>690</th>\n      <td>Samyang Foods</td>\n      <td>3.75</td>\n    </tr>\n    <tr>\n      <th>744</th>\n      <td>Samyang Foods</td>\n      <td>4.00</td>\n    </tr>\n    <tr>\n      <th>805</th>\n      <td>Samyang Foods</td>\n      <td>3.25</td>\n    </tr>\n    <tr>\n      <th>850</th>\n      <td>Samyang Foods</td>\n      <td>3.75</td>\n    </tr>\n    <tr>\n      <th>853</th>\n      <td>Samyang Foods</td>\n      <td>3.75</td>\n    </tr>\n    <tr>\n      <th>859</th>\n      <td>Samyang Foods</td>\n      <td>3.75</td>\n    </tr>\n    <tr>\n      <th>965</th>\n      <td>Samyang Foods</td>\n      <td>3.75</td>\n    </tr>\n    <tr>\n      <th>992</th>\n      <td>Samyang Foods</td>\n      <td>3.75</td>\n    </tr>\n    <tr>\n      <th>997</th>\n      <td>Samyang Foods</td>\n      <td>4.00</td>\n    </tr>\n    <tr>\n      <th>1049</th>\n      <td>Samyang Foods</td>\n      <td>3.75</td>\n    </tr>\n    <tr>\n      <th>1076</th>\n      <td>Samyang Foods</td>\n      <td>4.00</td>\n    </tr>\n    <tr>\n      <th>1105</th>\n      <td>Samyang Foods</td>\n      <td>3.75</td>\n    </tr>\n    <tr>\n      <th>1106</th>\n      <td>Samyang Foods</td>\n      <td>4.00</td>\n    </tr>\n    <tr>\n      <th>1109</th>\n      <td>Samyang Foods</td>\n      <td>4.00</td>\n    </tr>\n    <tr>\n      <th>1110</th>\n      <td>Samyang Foods</td>\n      <td>4.00</td>\n    </tr>\n    <tr>\n      <th>1182</th>\n      <td>Samyang Foods</td>\n      <td>3.50</td>\n    </tr>\n    <tr>\n      <th>1203</th>\n      <td>Samyang Foods</td>\n      <td>3.75</td>\n    </tr>\n    <tr>\n      <th>1372</th>\n      <td>Samyang Foods</td>\n      <td>4.00</td>\n    </tr>\n    <tr>\n      <th>1839</th>\n      <td>Samyang Foods</td>\n      <td>3.50</td>\n    </tr>\n    <tr>\n      <th>1925</th>\n      <td>Samyang Foods</td>\n      <td>3.75</td>\n    </tr>\n    <tr>\n      <th>1975</th>\n      <td>Samyang Foods</td>\n      <td>3.50</td>\n    </tr>\n    <tr>\n      <th>2043</th>\n      <td>Samyang Foods</td>\n      <td>4.00</td>\n    </tr>\n    <tr>\n      <th>2101</th>\n      <td>Samyang Foods</td>\n      <td>3.75</td>\n    </tr>\n    <tr>\n      <th>2201</th>\n      <td>Samyang Foods</td>\n      <td>3.50</td>\n    </tr>\n    <tr>\n      <th>2223</th>\n      <td>Samyang Foods</td>\n      <td>3.75</td>\n    </tr>\n    <tr>\n      <th>2292</th>\n      <td>Samyang Foods</td>\n      <td>4.00</td>\n    </tr>\n    <tr>\n      <th>2313</th>\n      <td>Samyang Foods</td>\n      <td>3.75</td>\n    </tr>\n    <tr>\n      <th>2360</th>\n      <td>Samyang Foods</td>\n      <td>3.50</td>\n    </tr>\n    <tr>\n      <th>2443</th>\n      <td>Samyang Foods</td>\n      <td>3.75</td>\n    </tr>\n    <tr>\n      <th>2445</th>\n      <td>Samyang Foods</td>\n      <td>4.00</td>\n    </tr>\n    <tr>\n      <th>2446</th>\n      <td>Samyang Foods</td>\n      <td>4.00</td>\n    </tr>\n    <tr>\n      <th>2447</th>\n      <td>Samyang Foods</td>\n      <td>3.75</td>\n    </tr>\n    <tr>\n      <th>2448</th>\n      <td>Samyang Foods</td>\n      <td>3.75</td>\n    </tr>\n    <tr>\n      <th>2454</th>\n      <td>Samyang Foods</td>\n      <td>4.00</td>\n    </tr>\n    <tr>\n      <th>2456</th>\n      <td>Samyang Foods</td>\n      <td>3.75</td>\n    </tr>\n  </tbody>\n</table>\n</div>"
     },
     "metadata": {},
     "execution_count": 11
    }
   ],
   "source": [
    "test"
   ]
  },
  {
   "cell_type": "code",
   "execution_count": 16,
   "metadata": {},
   "outputs": [
    {
     "output_type": "stream",
     "name": "stdout",
     "text": [
      "1\n1\n2\n54\n40\n"
     ]
    }
   ],
   "source": [
    "print(df[(df.Brand == 'Samyang Foods') & ((df.Stars<=1))].count()['Brand'])\n",
    "print(df[(df.Brand == 'Samyang Foods') & ((df.Stars>1) & (df.Stars <= 2))].count()['Brand'])\n",
    "print(df[(df.Brand == 'Samyang Foods') & ((df.Stars>2) & (df.Stars <= 3))].count()['Brand'])\n",
    "print(df[(df.Brand == 'Samyang Foods') & ((df.Stars>3) & (df.Stars <= 4))].count()['Brand'])\n",
    "print(df[(df.Brand == 'Samyang Foods') & ((df.Stars>4) & (df.Stars <= 5))].count()['Brand'])"
   ]
  },
  {
   "cell_type": "code",
   "execution_count": 37,
   "metadata": {},
   "outputs": [],
   "source": [
    "def count(perc, total):\n",
    "    res = perc/total * 100\n",
    "    return res"
   ]
  },
  {
   "cell_type": "code",
   "execution_count": 54,
   "metadata": {},
   "outputs": [
    {
     "output_type": "stream",
     "name": "stdout",
     "text": [
      "1.0204081632653061\n1.0204081632653061\n2.0408163265306123\n55.10204081632652\n40.816326530612244\n"
     ]
    }
   ],
   "source": [
    "#Samyang Foods\n",
    "list = [1, 1 , 2, 54, 40]\n",
    "\n",
    "for i in list:\n",
    "    print(count(i, 98))"
   ]
  },
  {
   "cell_type": "code",
   "execution_count": 55,
   "metadata": {},
   "outputs": [
    {
     "output_type": "stream",
     "name": "stdout",
     "text": [
      "0.0\n3.061224489795918\n6.122448979591836\n15.306122448979592\n32.6530612244898\n"
     ]
    }
   ],
   "source": [
    "#Indomie\n",
    "list = [0, 3 , 6, 15, 32]\n",
    "\n",
    "for i in list:\n",
    "    print(count(i, 98))"
   ]
  },
  {
   "cell_type": "code",
   "execution_count": 56,
   "metadata": {},
   "outputs": [
    {
     "output_type": "stream",
     "name": "stdout",
     "text": [
      "1.25\n1.25\n2.5\n55.00000000000001\n40.0\n"
     ]
    }
   ],
   "source": [
    "#Paldo\n",
    "list = [1, 1 , 2, 44, 32]\n",
    "\n",
    "for i in list:\n",
    "    print(count(i, 80))"
   ]
  },
  {
   "cell_type": "code",
   "execution_count": 57,
   "metadata": {},
   "outputs": [
    {
     "output_type": "stream",
     "name": "stdout",
     "text": [
      "0.8620689655172413\n2.586206896551724\n6.896551724137931\n42.241379310344826\n47.41379310344828\n"
     ]
    }
   ],
   "source": [
    "#Nongshim\n",
    "list = [1, 3 , 8, 49, 55]\n",
    "\n",
    "for i in list:\n",
    "    print(count(i, 116))"
   ]
  },
  {
   "cell_type": "code",
   "execution_count": 23,
   "metadata": {},
   "outputs": [
    {
     "output_type": "stream",
     "name": "stdout",
     "text": [
      "2.0202020202020203\n3.0303030303030303\n12.121212121212121\n45.45454545454545\n37.37373737373738\n"
     ]
    }
   ],
   "source": [
    "#Myojo\n",
    "list = [2, 3, 12, 45, 37]\n",
    "\n",
    "for i in list:\n",
    "    print(count(i, 99))"
   ]
  },
  {
   "cell_type": "code",
   "execution_count": 17,
   "metadata": {},
   "outputs": [],
   "source": [
    "#fungsi binomial\n",
    "import math\n",
    "\n",
    "def binomial(percentage, amount, x):\n",
    "    result = (math.comb(amount, x)) * (percentage**x) * ((1-percentage)**(amount-x))\n",
    "    return result"
   ]
  },
  {
   "cell_type": "code",
   "execution_count": 60,
   "metadata": {},
   "outputs": [
    {
     "output_type": "stream",
     "name": "stdout",
     "text": [
      "0.03643808323802499\n0.1130072986909018\n0.20768908948598166\n0.2504898815759981\n0.20716190206014973\n0.11897811942643731\n0.04685624780500619\n0.012109807287442476\n0.0018546551701488475\n0.00012782082929404216\n\n total : 0.1799266505183289\n"
     ]
    }
   ],
   "source": [
    "#Samyang Foods\n",
    "total = 0\n",
    "for i in range(10):\n",
    "    percentage = 0.408 \n",
    "    amount = 10\n",
    "    x = i+1\n",
    "    \n",
    "    if x > 5 :\n",
    "        current = binomial(percentage, amount, x)\n",
    "        total += current\n",
    "\n",
    "    print(binomial(percentage, amount, x))\n",
    "print('\\n total :', total)"
   ]
  },
  {
   "cell_type": "code",
   "execution_count": 61,
   "metadata": {},
   "outputs": [
    {
     "output_type": "stream",
     "name": "stdout",
     "text": [
      "0.09261542642636741\n0.2025016344523026\n0.2623795323066982\n0.22310057557579205\n0.13008122712621215\n0.05267033342034593\n0.014623815774530348\n0.002664554843018996\n0.00028770329657163996\n1.3979045762098998e-05\n\n total : 0.07026038638022902\n"
     ]
    }
   ],
   "source": [
    "#Indomie\n",
    "total = 0\n",
    "for i in range(10):\n",
    "    percentage = 0.327 \n",
    "    amount = 10\n",
    "    x = i+1\n",
    "    \n",
    "    if x > 5 :\n",
    "        current = binomial(percentage, amount, x)\n",
    "        total += current\n",
    "\n",
    "    print(binomial(percentage, amount, x))\n",
    "print('\\n total :', total)"
   ]
  },
  {
   "cell_type": "code",
   "execution_count": 62,
   "metadata": {},
   "outputs": [
    {
     "output_type": "stream",
     "name": "stdout",
     "text": [
      "0.04031078399999999\n0.12093235199999998\n0.21499084799999998\n0.250822656\n0.2006581248\n0.11147673600000005\n0.042467328000000006\n0.010616832000000005\n0.0015728640000000009\n0.00010485760000000006\n\n total : 0.16623861760000005\n"
     ]
    }
   ],
   "source": [
    "#Paldo\n",
    "total = 0\n",
    "for i in range(10):\n",
    "    percentage = 0.4 \n",
    "    amount = 10\n",
    "    x = i+1\n",
    "    \n",
    "    if x > 5 :\n",
    "        current = binomial(percentage, amount, x)\n",
    "        total += current\n",
    "\n",
    "    print(binomial(percentage, amount, x))\n",
    "print('\\n total :', total)"
   ]
  },
  {
   "cell_type": "code",
   "execution_count": 63,
   "metadata": {},
   "outputs": [
    {
     "output_type": "stream",
     "name": "stdout",
     "text": [
      "0.014609994049737857\n0.059245470167473085\n0.14236934275985924\n0.22451591220399858\n0.24278450734151025\n0.18231916425835842\n0.09388298083483095\n0.03172566510150418\n0.006353175013989429\n0.0005725104480287052\n\n total : 0.3148534956567116\n"
     ]
    }
   ],
   "source": [
    "#Nongshim\n",
    "total = 0\n",
    "for i in range(10):\n",
    "    percentage = 0.474 \n",
    "    amount = 10\n",
    "    x = i+1\n",
    "    \n",
    "    if x > 5 :\n",
    "        current = binomial(percentage, amount, x)88888888888888888\n",
    "        total += current8888888888888\n",
    "\n",
    "    print(binomial(percentage, amount, x))\n",
    "print('\\n total :', total)"
   ]
  },
  {
   "cell_type": "code",
   "execution_count": 20,
   "metadata": {},
   "outputs": [
    {
     "output_type": "stream",
     "name": "stdout",
     "text": [
      "0.05521290540189694\n0.1484398079734705\n0.2364919624369669\n0.247258769033538\n0.1772679481505621\n0.08825640656058338\n0.03013043911789884\n0.006750469786398262\n0.0008962285055424033\n5.354464234390716e-05\n\n total : 0.12608708861276682\n"
     ]
    }
   ],
   "source": [
    "#Myojo\n",
    "total = 0\n",
    "for i in range(10):\n",
    "    percentage = 0.374\n",
    "    amount = 10\n",
    "    x = i+1\n",
    "    \n",
    "    if x > 5 :\n",
    "        current = binomial(percentage, amount, x)\n",
    "        total += current\n",
    "\n",
    "    print(binomial(percentage, amount, x))\n",
    "print('\\n total :', total)"
   ]
  },
  {
   "cell_type": "code",
   "execution_count": null,
   "metadata": {},
   "outputs": [],
   "source": []
  }
 ]
}