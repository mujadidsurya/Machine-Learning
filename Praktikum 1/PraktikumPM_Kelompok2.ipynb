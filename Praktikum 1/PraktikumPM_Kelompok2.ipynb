{
 "cells": [
  {
   "cell_type": "markdown",
   "metadata": {},
   "source": [
    "### ANGGOTA KELOMPOK 2 PRAKTIKUM PEMBELAJARAN MESIN : <br>\n",
    "| NIM | NAMA |\n",
    "|---------|-----------|\n",
    "| 121450015 | Mujadid Choirus Surya |\n",
    "| 121450018 | Balqis Dwian Fitri Zamzami |\n",
    "| 121450042 | Sylviani Primaastuti Ananda |\n",
    "| 121450108 | Vanessa Olivia Rose |\n",
    "| 1214500 | Fachrul |"
   ]
  },
  {
   "cell_type": "markdown",
   "metadata": {},
   "source": [
    "# Tugas Kelompok  \n",
    "\n",
    "Buatlah sebuah pemograman menggunakan salah satu  atau lebih dari  6 metode \n",
    "dengan contoh studi kasus dalam bidang ekonomi contoh saham, bidang ilmiah, \n",
    "Kesehatan dan lain lain, buatlah laporan kelompok dan presentasikan hasil yang \n",
    "diperoleh melalui vidio dan laporan kelompok.  \n",
    "\n",
    "Note:  studi  kasus  tidak  boleh  sama,  contoh:    jika  sudah  ada  yang  mengambil \n",
    "Kesehatan maka kelompok lain bisa mencari tema yang lain."
   ]
  },
  {
   "cell_type": "code",
   "execution_count": 1,
   "metadata": {},
   "outputs": [],
   "source": [
    "import pandas as pd\n",
    "import numpy as np\n",
    "from matplotlib import pyplot as plt\n",
    "import operator as op\n",
    "from functools import reduce"
   ]
  },
  {
   "cell_type": "code",
   "execution_count": 2,
   "metadata": {},
   "outputs": [
    {
     "data": {
      "text/html": [
       "<div>\n",
       "<style scoped>\n",
       "    .dataframe tbody tr th:only-of-type {\n",
       "        vertical-align: middle;\n",
       "    }\n",
       "\n",
       "    .dataframe tbody tr th {\n",
       "        vertical-align: top;\n",
       "    }\n",
       "\n",
       "    .dataframe thead th {\n",
       "        text-align: right;\n",
       "    }\n",
       "</style>\n",
       "<table border=\"1\" class=\"dataframe\">\n",
       "  <thead>\n",
       "    <tr style=\"text-align: right;\">\n",
       "      <th></th>\n",
       "      <th>ID</th>\n",
       "      <th>URL</th>\n",
       "      <th>Brand</th>\n",
       "      <th>Variety</th>\n",
       "      <th>Style</th>\n",
       "      <th>Country</th>\n",
       "      <th>Stars</th>\n",
       "    </tr>\n",
       "  </thead>\n",
       "  <tbody>\n",
       "    <tr>\n",
       "      <th>0</th>\n",
       "      <td>3473</td>\n",
       "      <td>https://www.theramenrater.com/2020/04/05/3473-...</td>\n",
       "      <td>MyKuali</td>\n",
       "      <td>White Fish Broth Noodle</td>\n",
       "      <td>Pack</td>\n",
       "      <td>Malaysia</td>\n",
       "      <td>5</td>\n",
       "    </tr>\n",
       "    <tr>\n",
       "      <th>1</th>\n",
       "      <td>3472</td>\n",
       "      <td>https://www.theramenrater.com/2020/04/05/3472-...</td>\n",
       "      <td>MyKuali</td>\n",
       "      <td>Penang White Curry Noodle (New Recipe)</td>\n",
       "      <td>Pack</td>\n",
       "      <td>Malaysia</td>\n",
       "      <td>5</td>\n",
       "    </tr>\n",
       "    <tr>\n",
       "      <th>2</th>\n",
       "      <td>3471</td>\n",
       "      <td>https://www.theramenrater.com/2020/04/05/3471-...</td>\n",
       "      <td>Ve Wong</td>\n",
       "      <td>Instant Oriental Noodles Soup Chinese Herb - G...</td>\n",
       "      <td>Pack</td>\n",
       "      <td>Taiwan</td>\n",
       "      <td>3.75</td>\n",
       "    </tr>\n",
       "    <tr>\n",
       "      <th>3</th>\n",
       "      <td>3470</td>\n",
       "      <td>https://www.theramenrater.com/2020/04/04/3470-...</td>\n",
       "      <td>Myojo</td>\n",
       "      <td>Ippeichan Rich &amp; Sweet Yakisoba</td>\n",
       "      <td>Tray</td>\n",
       "      <td>Japan</td>\n",
       "      <td>5</td>\n",
       "    </tr>\n",
       "    <tr>\n",
       "      <th>4</th>\n",
       "      <td>3469</td>\n",
       "      <td>https://www.theramenrater.com/2020/04/03/3469-...</td>\n",
       "      <td>Mykuali</td>\n",
       "      <td>Penang Hokkien Prawn Rice Vermicelli Soup</td>\n",
       "      <td>Bowl</td>\n",
       "      <td>Malaysia</td>\n",
       "      <td>5</td>\n",
       "    </tr>\n",
       "  </tbody>\n",
       "</table>\n",
       "</div>"
      ],
      "text/plain": [
       "     ID                                                URL    Brand  \\\n",
       "0  3473  https://www.theramenrater.com/2020/04/05/3473-...  MyKuali   \n",
       "1  3472  https://www.theramenrater.com/2020/04/05/3472-...  MyKuali   \n",
       "2  3471  https://www.theramenrater.com/2020/04/05/3471-...  Ve Wong   \n",
       "3  3470  https://www.theramenrater.com/2020/04/04/3470-...    Myojo   \n",
       "4  3469  https://www.theramenrater.com/2020/04/03/3469-...  Mykuali   \n",
       "\n",
       "                                             Variety Style   Country Stars  \n",
       "0                            White Fish Broth Noodle  Pack  Malaysia     5  \n",
       "1             Penang White Curry Noodle (New Recipe)  Pack  Malaysia     5  \n",
       "2  Instant Oriental Noodles Soup Chinese Herb - G...  Pack    Taiwan  3.75  \n",
       "3                    Ippeichan Rich & Sweet Yakisoba  Tray     Japan     5  \n",
       "4          Penang Hokkien Prawn Rice Vermicelli Soup  Bowl  Malaysia     5  "
      ]
     },
     "execution_count": 2,
     "metadata": {},
     "output_type": "execute_result"
    }
   ],
   "source": [
    "df = pd.read_csv('dataset.csv')\n",
    "df.head()"
   ]
  },
  {
   "cell_type": "code",
   "execution_count": 3,
   "metadata": {},
   "outputs": [],
   "source": [
    "df = df[['Brand', 'Stars']]\n",
    "\n",
    "\n",
    "df = df[(df.Stars != 'NR') & (df.Stars != 'NS') & (df.Stars != 'Unrated')]\n",
    "df = df[df[\"Stars\"].str.contains(\"/\")==False]\n",
    "\n",
    "df['Stars'] = df['Stars'].astype(float)"
   ]
  },
  {
   "cell_type": "code",
   "execution_count": 4,
   "metadata": {},
   "outputs": [
    {
     "data": {
      "text/plain": [
       "array([5.   , 3.75 , 4.   , 4.5  , 1.   , 0.   , 2.5  , 2.   , 3.5  ,\n",
       "       3.   , 3.25 , 1.5  , 4.25 , 0.25 , 2.25 , 2.75 , 0.5  , 4.75 ,\n",
       "       1.25 , 1.75 , 0.75 , 1.1  , 2.1  , 0.9  , 3.1  , 4.125, 3.125,\n",
       "       2.125, 2.9  , 0.1  , 2.8  , 3.7  , 3.4  , 3.6  , 2.85 , 2.3  ,\n",
       "       3.2  , 3.65 , 1.8  ])"
      ]
     },
     "execution_count": 4,
     "metadata": {},
     "output_type": "execute_result"
    }
   ],
   "source": [
    "df['Stars'].unique()"
   ]
  },
  {
   "cell_type": "code",
   "execution_count": 5,
   "metadata": {},
   "outputs": [],
   "source": [
    "df2 = df.groupby(['Brand']).agg(['mean','count'])"
   ]
  },
  {
   "cell_type": "code",
   "execution_count": 6,
   "metadata": {},
   "outputs": [
    {
     "data": {
      "text/html": [
       "<div>\n",
       "<style scoped>\n",
       "    .dataframe tbody tr th:only-of-type {\n",
       "        vertical-align: middle;\n",
       "    }\n",
       "\n",
       "    .dataframe tbody tr th {\n",
       "        vertical-align: top;\n",
       "    }\n",
       "\n",
       "    .dataframe thead tr th {\n",
       "        text-align: left;\n",
       "    }\n",
       "\n",
       "    .dataframe thead tr:last-of-type th {\n",
       "        text-align: right;\n",
       "    }\n",
       "</style>\n",
       "<table border=\"1\" class=\"dataframe\">\n",
       "  <thead>\n",
       "    <tr>\n",
       "      <th></th>\n",
       "      <th colspan=\"2\" halign=\"left\">Stars</th>\n",
       "    </tr>\n",
       "    <tr>\n",
       "      <th></th>\n",
       "      <th>mean</th>\n",
       "      <th>count</th>\n",
       "    </tr>\n",
       "    <tr>\n",
       "      <th>Brand</th>\n",
       "      <th></th>\n",
       "      <th></th>\n",
       "    </tr>\n",
       "  </thead>\n",
       "  <tbody>\n",
       "    <tr>\n",
       "      <th>1 To 3 Noodles</th>\n",
       "      <td>4.000</td>\n",
       "      <td>1</td>\n",
       "    </tr>\n",
       "    <tr>\n",
       "      <th>7 Select</th>\n",
       "      <td>3.625</td>\n",
       "      <td>2</td>\n",
       "    </tr>\n",
       "    <tr>\n",
       "      <th>7 Select/Nissin</th>\n",
       "      <td>3.500</td>\n",
       "      <td>1</td>\n",
       "    </tr>\n",
       "    <tr>\n",
       "      <th>7-Eleven / Nissin</th>\n",
       "      <td>4.250</td>\n",
       "      <td>1</td>\n",
       "    </tr>\n",
       "    <tr>\n",
       "      <th>A-One</th>\n",
       "      <td>2.750</td>\n",
       "      <td>4</td>\n",
       "    </tr>\n",
       "  </tbody>\n",
       "</table>\n",
       "</div>"
      ],
      "text/plain": [
       "                   Stars      \n",
       "                    mean count\n",
       "Brand                         \n",
       "1 To 3 Noodles     4.000     1\n",
       "7 Select           3.625     2\n",
       "7 Select/Nissin    3.500     1\n",
       "7-Eleven / Nissin  4.250     1\n",
       "A-One              2.750     4"
      ]
     },
     "execution_count": 6,
     "metadata": {},
     "output_type": "execute_result"
    }
   ],
   "source": [
    "df2.head()"
   ]
  },
  {
   "cell_type": "code",
   "execution_count": 7,
   "metadata": {},
   "outputs": [
    {
     "data": {
      "text/html": [
       "<div>\n",
       "<style scoped>\n",
       "    .dataframe tbody tr th:only-of-type {\n",
       "        vertical-align: middle;\n",
       "    }\n",
       "\n",
       "    .dataframe tbody tr th {\n",
       "        vertical-align: top;\n",
       "    }\n",
       "\n",
       "    .dataframe thead tr th {\n",
       "        text-align: left;\n",
       "    }\n",
       "\n",
       "    .dataframe thead tr:last-of-type th {\n",
       "        text-align: right;\n",
       "    }\n",
       "</style>\n",
       "<table border=\"1\" class=\"dataframe\">\n",
       "  <thead>\n",
       "    <tr>\n",
       "      <th></th>\n",
       "      <th colspan=\"2\" halign=\"left\">Stars</th>\n",
       "    </tr>\n",
       "    <tr>\n",
       "      <th></th>\n",
       "      <th>mean</th>\n",
       "      <th>count</th>\n",
       "    </tr>\n",
       "    <tr>\n",
       "      <th>Brand</th>\n",
       "      <th></th>\n",
       "      <th></th>\n",
       "    </tr>\n",
       "  </thead>\n",
       "  <tbody>\n",
       "    <tr>\n",
       "      <th>Samyang Foods</th>\n",
       "      <td>4.099490</td>\n",
       "      <td>98</td>\n",
       "    </tr>\n",
       "    <tr>\n",
       "      <th>Indomie</th>\n",
       "      <td>4.089286</td>\n",
       "      <td>56</td>\n",
       "    </tr>\n",
       "    <tr>\n",
       "      <th>Paldo</th>\n",
       "      <td>4.040625</td>\n",
       "      <td>80</td>\n",
       "    </tr>\n",
       "    <tr>\n",
       "      <th>Nongshim</th>\n",
       "      <td>4.032328</td>\n",
       "      <td>116</td>\n",
       "    </tr>\n",
       "    <tr>\n",
       "      <th>Nissin</th>\n",
       "      <td>3.894272</td>\n",
       "      <td>467</td>\n",
       "    </tr>\n",
       "  </tbody>\n",
       "</table>\n",
       "</div>"
      ],
      "text/plain": [
       "                  Stars      \n",
       "                   mean count\n",
       "Brand                        \n",
       "Samyang Foods  4.099490    98\n",
       "Indomie        4.089286    56\n",
       "Paldo          4.040625    80\n",
       "Nongshim       4.032328   116\n",
       "Nissin         3.894272   467"
      ]
     },
     "execution_count": 7,
     "metadata": {},
     "output_type": "execute_result"
    }
   ],
   "source": [
    "df3 = df2[(df2.Stars['count'] >50)]\n",
    "df3 = df3.sort_values(by=('Stars', 'mean'), ascending=False)\n",
    "pd.options.display.max_rows = 300\n",
    "df3.head()"
   ]
  },
  {
   "cell_type": "code",
   "execution_count": 8,
   "metadata": {},
   "outputs": [
    {
     "data": {
      "text/html": [
       "<div>\n",
       "<style scoped>\n",
       "    .dataframe tbody tr th:only-of-type {\n",
       "        vertical-align: middle;\n",
       "    }\n",
       "\n",
       "    .dataframe tbody tr th {\n",
       "        vertical-align: top;\n",
       "    }\n",
       "\n",
       "    .dataframe thead th {\n",
       "        text-align: right;\n",
       "    }\n",
       "</style>\n",
       "<table border=\"1\" class=\"dataframe\">\n",
       "  <thead>\n",
       "    <tr style=\"text-align: right;\">\n",
       "      <th></th>\n",
       "      <th>Brand</th>\n",
       "      <th>Stars</th>\n",
       "    </tr>\n",
       "  </thead>\n",
       "  <tbody>\n",
       "    <tr>\n",
       "      <th>37</th>\n",
       "      <td>Samyang Foods</td>\n",
       "      <td>3.5</td>\n",
       "    </tr>\n",
       "    <tr>\n",
       "      <th>39</th>\n",
       "      <td>Samyang Foods</td>\n",
       "      <td>3.5</td>\n",
       "    </tr>\n",
       "    <tr>\n",
       "      <th>52</th>\n",
       "      <td>Samyang Foods</td>\n",
       "      <td>4.0</td>\n",
       "    </tr>\n",
       "    <tr>\n",
       "      <th>202</th>\n",
       "      <td>Samyang Foods</td>\n",
       "      <td>4.0</td>\n",
       "    </tr>\n",
       "    <tr>\n",
       "      <th>207</th>\n",
       "      <td>Samyang Foods</td>\n",
       "      <td>4.0</td>\n",
       "    </tr>\n",
       "  </tbody>\n",
       "</table>\n",
       "</div>"
      ],
      "text/plain": [
       "             Brand  Stars\n",
       "37   Samyang Foods    3.5\n",
       "39   Samyang Foods    3.5\n",
       "52   Samyang Foods    4.0\n",
       "202  Samyang Foods    4.0\n",
       "207  Samyang Foods    4.0"
      ]
     },
     "execution_count": 8,
     "metadata": {},
     "output_type": "execute_result"
    }
   ],
   "source": [
    "test = df[(df.Brand == 'Samyang Foods') & ((df.Stars>3) & (df.Stars <= 4))]\n",
    "test.head()"
   ]
  },
  {
   "cell_type": "markdown",
   "metadata": {},
   "source": [
    "## Percentage"
   ]
  },
  {
   "cell_type": "code",
   "execution_count": 9,
   "metadata": {},
   "outputs": [],
   "source": [
    "def count(perc, total):\n",
    "    res = perc/total * 100\n",
    "    return res"
   ]
  },
  {
   "cell_type": "markdown",
   "metadata": {},
   "source": [
    "*Samyang Foods*"
   ]
  },
  {
   "cell_type": "code",
   "execution_count": 10,
   "metadata": {},
   "outputs": [
    {
     "name": "stdout",
     "output_type": "stream",
     "text": [
      "1\n",
      "1\n",
      "2\n",
      "54\n",
      "40\n"
     ]
    }
   ],
   "source": [
    "print(df[(df.Brand == 'Samyang Foods') & ((df.Stars<=1))].count()['Brand'])\n",
    "print(df[(df.Brand == 'Samyang Foods') & ((df.Stars>1) & (df.Stars <= 2))].count()['Brand'])\n",
    "print(df[(df.Brand == 'Samyang Foods') & ((df.Stars>2) & (df.Stars <= 3))].count()['Brand'])\n",
    "print(df[(df.Brand == 'Samyang Foods') & ((df.Stars>3) & (df.Stars <= 4))].count()['Brand'])\n",
    "print(df[(df.Brand == 'Samyang Foods') & ((df.Stars>4) & (df.Stars <= 5))].count()['Brand'])"
   ]
  },
  {
   "cell_type": "code",
   "execution_count": 11,
   "metadata": {},
   "outputs": [
    {
     "name": "stdout",
     "output_type": "stream",
     "text": [
      "1.0204081632653061\n",
      "1.0204081632653061\n",
      "2.0408163265306123\n",
      "55.10204081632652\n",
      "40.816326530612244\n"
     ]
    }
   ],
   "source": [
    "list = [1, 1 , 2, 54, 40]\n",
    "\n",
    "for i in list:\n",
    "    print(count(i, 98))"
   ]
  },
  {
   "cell_type": "markdown",
   "metadata": {},
   "source": [
    "*Indomie*"
   ]
  },
  {
   "cell_type": "code",
   "execution_count": 12,
   "metadata": {},
   "outputs": [
    {
     "name": "stdout",
     "output_type": "stream",
     "text": [
      "0\n",
      "3\n",
      "6\n",
      "15\n",
      "32\n"
     ]
    }
   ],
   "source": [
    "print(df[(df.Brand == 'Indomie') & ((df.Stars<=1))].count()['Brand'])\n",
    "print(df[(df.Brand == 'Indomie') & ((df.Stars>1) & (df.Stars <= 2))].count()['Brand'])\n",
    "print(df[(df.Brand == 'Indomie') & ((df.Stars>2) & (df.Stars <= 3))].count()['Brand'])\n",
    "print(df[(df.Brand == 'Indomie') & ((df.Stars>3) & (df.Stars <= 4))].count()['Brand'])\n",
    "print(df[(df.Brand == 'Indomie') & ((df.Stars>4) & (df.Stars <= 5))].count()['Brand'])"
   ]
  },
  {
   "cell_type": "code",
   "execution_count": 13,
   "metadata": {},
   "outputs": [
    {
     "name": "stdout",
     "output_type": "stream",
     "text": [
      "0.0\n",
      "3.061224489795918\n",
      "6.122448979591836\n",
      "15.306122448979592\n",
      "32.6530612244898\n"
     ]
    }
   ],
   "source": [
    "list = [0, 3 , 6, 15, 32]\n",
    "\n",
    "for i in list:\n",
    "    print(count(i, 98))"
   ]
  },
  {
   "cell_type": "markdown",
   "metadata": {},
   "source": [
    "*Paldo*"
   ]
  },
  {
   "cell_type": "code",
   "execution_count": 14,
   "metadata": {},
   "outputs": [
    {
     "name": "stdout",
     "output_type": "stream",
     "text": [
      "1\n",
      "1\n",
      "2\n",
      "44\n",
      "32\n"
     ]
    }
   ],
   "source": [
    "print(df[(df.Brand == 'Paldo') & ((df.Stars<=1))].count()['Brand'])\n",
    "print(df[(df.Brand == 'Paldo') & ((df.Stars>1) & (df.Stars <= 2))].count()['Brand'])\n",
    "print(df[(df.Brand == 'Paldo') & ((df.Stars>2) & (df.Stars <= 3))].count()['Brand'])\n",
    "print(df[(df.Brand == 'Paldo') & ((df.Stars>3) & (df.Stars <= 4))].count()['Brand'])\n",
    "print(df[(df.Brand == 'Paldo') & ((df.Stars>4) & (df.Stars <= 5))].count()['Brand'])"
   ]
  },
  {
   "cell_type": "code",
   "execution_count": 15,
   "metadata": {},
   "outputs": [
    {
     "name": "stdout",
     "output_type": "stream",
     "text": [
      "1.25\n",
      "1.25\n",
      "2.5\n",
      "55.00000000000001\n",
      "40.0\n"
     ]
    }
   ],
   "source": [
    "list = [1, 1 , 2, 44, 32]\n",
    "\n",
    "for i in list:\n",
    "    print(count(i, 80))"
   ]
  },
  {
   "cell_type": "markdown",
   "metadata": {},
   "source": [
    "*Nongshim*"
   ]
  },
  {
   "cell_type": "code",
   "execution_count": 16,
   "metadata": {},
   "outputs": [
    {
     "name": "stdout",
     "output_type": "stream",
     "text": [
      "1\n",
      "3\n",
      "8\n",
      "49\n",
      "55\n"
     ]
    }
   ],
   "source": [
    "print(df[(df.Brand == 'Nongshim') & ((df.Stars<=1))].count()['Brand'])\n",
    "print(df[(df.Brand == 'Nongshim') & ((df.Stars>1) & (df.Stars <= 2))].count()['Brand'])\n",
    "print(df[(df.Brand == 'Nongshim') & ((df.Stars>2) & (df.Stars <= 3))].count()['Brand'])\n",
    "print(df[(df.Brand == 'Nongshim') & ((df.Stars>3) & (df.Stars <= 4))].count()['Brand'])\n",
    "print(df[(df.Brand == 'Nongshim') & ((df.Stars>4) & (df.Stars <= 5))].count()['Brand'])"
   ]
  },
  {
   "cell_type": "code",
   "execution_count": 17,
   "metadata": {},
   "outputs": [
    {
     "name": "stdout",
     "output_type": "stream",
     "text": [
      "0.8620689655172413\n",
      "2.586206896551724\n",
      "6.896551724137931\n",
      "42.241379310344826\n",
      "47.41379310344828\n"
     ]
    }
   ],
   "source": [
    "list = [1, 3 , 8, 49, 55]\n",
    "\n",
    "for i in list:\n",
    "    print(count(i, 116))"
   ]
  },
  {
   "cell_type": "markdown",
   "metadata": {},
   "source": [
    "*Myojo*"
   ]
  },
  {
   "cell_type": "code",
   "execution_count": 18,
   "metadata": {},
   "outputs": [
    {
     "name": "stdout",
     "output_type": "stream",
     "text": [
      "2\n",
      "3\n",
      "12\n",
      "45\n",
      "37\n"
     ]
    }
   ],
   "source": [
    "print(df[(df.Brand == 'Myojo') & ((df.Stars<=1))].count()['Brand'])\n",
    "print(df[(df.Brand == 'Myojo') & ((df.Stars>1) & (df.Stars <= 2))].count()['Brand'])\n",
    "print(df[(df.Brand == 'Myojo') & ((df.Stars>2) & (df.Stars <= 3))].count()['Brand'])\n",
    "print(df[(df.Brand == 'Myojo') & ((df.Stars>3) & (df.Stars <= 4))].count()['Brand'])\n",
    "print(df[(df.Brand == 'Myojo') & ((df.Stars>4) & (df.Stars <= 5))].count()['Brand'])"
   ]
  },
  {
   "cell_type": "code",
   "execution_count": 19,
   "metadata": {},
   "outputs": [
    {
     "name": "stdout",
     "output_type": "stream",
     "text": [
      "2.0202020202020203\n",
      "3.0303030303030303\n",
      "12.121212121212121\n",
      "45.45454545454545\n",
      "37.37373737373738\n"
     ]
    }
   ],
   "source": [
    "list = [2, 3, 12, 45, 37]\n",
    "\n",
    "for i in list:\n",
    "    print(count(i, 99))"
   ]
  },
  {
   "cell_type": "markdown",
   "metadata": {},
   "source": [
    "## Distribusi Binomial"
   ]
  },
  {
   "cell_type": "markdown",
   "metadata": {},
   "source": [
    "*Samyang Foods*"
   ]
  },
  {
   "cell_type": "code",
   "execution_count": 20,
   "metadata": {},
   "outputs": [
    {
     "name": "stdout",
     "output_type": "stream",
     "text": [
      "x = 6, Binomial Probability = 0.20716190206014973\n",
      "x = 7, Binomial Probability = 0.11897811942643731\n",
      "x = 8, Binomial Probability = 0.04685624780500619\n",
      "x = 9, Binomial Probability = 0.012109807287442476\n",
      "x = 10, Binomial Probability = 0.0018546551701488475\n",
      "\n",
      "Total Probability for x > 5: 0.38696073174918455\n"
     ]
    },
    {
     "data": {
      "image/png": "[encoded data removed]",
      "text/plain": [
       "<Figure size 640x480 with 1 Axes>"
      ]
     },
     "metadata": {},
     "output_type": "display_data"
    }
   ],
   "source": [
    "import numpy as np\n",
    "import matplotlib.pyplot as plt\n",
    "from functools import reduce\n",
    "import operator as op\n",
    "\n",
    "# Fungsi const(n, r) untuk menghitung kombinasi nCr\n",
    "def const(n, r):\n",
    "    r = min(r, n - r)\n",
    "    numer = reduce(op.mul, range(n, n - r, -1), 1)\n",
    "    denom = reduce(op.mul, range(1, r + 1), 1)\n",
    "    return numer / denom\n",
    "\n",
    "# Fungsi binomial(n, p) untuk menghitung distribusi binomial\n",
    "def binomial(n, p):\n",
    "    q = 1 - p\n",
    "    y = [const(n, k) * (p ** k) * (q ** (n - k)) for k in range(n)]\n",
    "    return y, np.mean(y), np.std(y)\n",
    "\n",
    "# Menghitung dan menampilkan distribusi binomial\n",
    "percentage = 0.408\n",
    "amount = 10\n",
    "x_values = np.arange(1, 11)\n",
    "total = 0\n",
    "\n",
    "for x in x_values:\n",
    "    if x > 5:\n",
    "        y, u, s = binomial(amount, percentage)\n",
    "        total += y[x - 1]\n",
    "\n",
    "        # Menampilkan hasil distribusi binomial untuk x\n",
    "        print(f\"x = {x}, Binomial Probability = {y[x - 1]}\")\n",
    "\n",
    "print('\\nTotal Probability for x > 5:', total)\n",
    "\n",
    "# Membuat scatter plot dari hasil simulasi dengan label yang mencakup rata-rata dan deviasi standar\n",
    "plt.scatter(x_values, y[:10], label=r'$\\mu=%.2f,\\ \\sigma=%.2f$' % (u, s))\n",
    "plt.xlabel(\"x\")\n",
    "plt.ylabel(\"Binomial Probability\")\n",
    "plt.legend()\n",
    "plt.show()\n"
   ]
  },
  {
   "cell_type": "markdown",
   "metadata": {},
   "source": [
    "Indomie"
   ]
  },
  {
   "cell_type": "code",
   "execution_count": 22,
   "metadata": {},
   "outputs": [
    {
     "name": "stdout",
     "output_type": "stream",
     "text": [
      "x = 6, Binomial Probability = 0.12905891919924356\n",
      "x = 7, Binomial Probability = 0.05201929730335485\n",
      "x = 8, Binomial Probability = 0.01437752515548426\n",
      "x = 9, Binomial Probability = 0.002607792952904972\n",
      "x = 10, Binomial Probability = 0.00028029690163106525\n",
      "\n",
      "Total Probability for x > 5: 0.19834383151261872\n"
     ]
    },
    {
     "data": {
      "image/png": "[encoded data removed]",
      "text/plain": [
       "<Figure size 640x480 with 1 Axes>"
      ]
     },
     "metadata": {},
     "output_type": "display_data"
    }
   ],
   "source": [
    "import numpy as np\n",
    "import matplotlib.pyplot as plt\n",
    "from functools import reduce\n",
    "import operator as op\n",
    "\n",
    "# Fungsi const(n, r) untuk menghitung kombinasi nCr\n",
    "def const(n, r):\n",
    "    r = min(r, n - r)\n",
    "    numer = reduce(op.mul, range(n, n - r, -1), 1)\n",
    "    denom = reduce(op.mul, range(1, r + 1), 1)\n",
    "    return numer / denom\n",
    "\n",
    "# Fungsi binomial(n, p) untuk menghitung distribusi binomial\n",
    "def binomial(n, p):\n",
    "    q = 1 - p\n",
    "    y = [const(n, k) * (p ** k) * (q ** (n - k)) for k in range(n)]\n",
    "    return y, np.mean(y), np.std(y)\n",
    "\n",
    "# Menghitung dan menampilkan distribusi binomial\n",
    "percentage = 0.326\n",
    "amount = 10\n",
    "x_values = np.arange(1, 11)\n",
    "total = 0\n",
    "\n",
    "for x in x_values:\n",
    "    if x > 5:\n",
    "        y, u, s = binomial(amount, percentage)\n",
    "        total += y[x - 1]\n",
    "\n",
    "        # Menampilkan hasil distribusi binomial untuk x\n",
    "        print(f\"x = {x}, Binomial Probability = {y[x - 1]}\")\n",
    "\n",
    "print('\\nTotal Probability for x > 5:', total)\n",
    "\n",
    "# Membuat scatter plot dari hasil simulasi dengan label yang mencakup rata-rata dan deviasi standar\n",
    "plt.scatter(x_values, y[:10], label=r'$\\mu=%.2f,\\ \\sigma=%.2f$' % (u, s))\n",
    "plt.xlabel(\"x\")\n",
    "plt.ylabel(\"Binomial Probability\")\n",
    "plt.legend()\n",
    "plt.show()\n"
   ]
  },
  {
   "cell_type": "markdown",
   "metadata": {},
   "source": [
    "Paldo"
   ]
  },
  {
   "cell_type": "code",
   "execution_count": 23,
   "metadata": {},
   "outputs": [
    {
     "name": "stdout",
     "output_type": "stream",
     "text": [
      "x = 6, Binomial Probability = 0.2006581248\n",
      "x = 7, Binomial Probability = 0.11147673600000005\n",
      "x = 8, Binomial Probability = 0.042467328000000006\n",
      "x = 9, Binomial Probability = 0.010616832000000005\n",
      "x = 10, Binomial Probability = 0.0015728640000000009\n",
      "\n",
      "Total Probability for x > 5: 0.36679188480000013\n"
     ]
    },
    {
     "data": {
      "image/png": "[encoded data removed]",
      "text/plain": [
       "<Figure size 640x480 with 1 Axes>"
      ]
     },
     "metadata": {},
     "output_type": "display_data"
    }
   ],
   "source": [
    "import numpy as np\n",
    "import matplotlib.pyplot as plt\n",
    "from functools import reduce\n",
    "import operator as op\n",
    "\n",
    "# Fungsi const(n, r) untuk menghitung kombinasi nCr\n",
    "def const(n, r):\n",
    "    r = min(r, n - r)\n",
    "    numer = reduce(op.mul, range(n, n - r, -1), 1)\n",
    "    denom = reduce(op.mul, range(1, r + 1), 1)\n",
    "    return numer / denom\n",
    "\n",
    "# Fungsi binomial(n, p) untuk menghitung distribusi binomial\n",
    "def binomial(n, p):\n",
    "    q = 1 - p\n",
    "    y = [const(n, k) * (p ** k) * (q ** (n - k)) for k in range(n)]\n",
    "    return y, np.mean(y), np.std(y)\n",
    "\n",
    "# Menghitung dan menampilkan distribusi binomial\n",
    "percentage = 0.400\n",
    "amount = 10\n",
    "x_values = np.arange(1, 11)\n",
    "total = 0\n",
    "\n",
    "for x in x_values:\n",
    "    if x > 5:\n",
    "        y, u, s = binomial(amount, percentage)\n",
    "        total += y[x - 1]\n",
    "\n",
    "        # Menampilkan hasil distribusi binomial untuk x\n",
    "        print(f\"x = {x}, Binomial Probability = {y[x - 1]}\")\n",
    "\n",
    "print('\\nTotal Probability for x > 5:', total)\n",
    "\n",
    "# Membuat scatter plot dari hasil simulasi dengan label yang mencakup rata-rata dan deviasi standar\n",
    "plt.scatter(x_values, y[:10], label=r'$\\mu=%.2f,\\ \\sigma=%.2f$' % (u, s))\n",
    "plt.xlabel(\"x\")\n",
    "plt.ylabel(\"Binomial Probability\")\n",
    "plt.legend()\n",
    "plt.show()\n"
   ]
  },
  {
   "cell_type": "markdown",
   "metadata": {},
   "source": [
    "Nongshim"
   ]
  },
  {
   "cell_type": "code",
   "execution_count": 24,
   "metadata": {},
   "outputs": [
    {
     "name": "stdout",
     "output_type": "stream",
     "text": [
      "x = 6, Binomial Probability = 0.24278450734151025\n",
      "x = 7, Binomial Probability = 0.18231916425835842\n",
      "x = 8, Binomial Probability = 0.09388298083483095\n",
      "x = 9, Binomial Probability = 0.03172566510150418\n",
      "x = 10, Binomial Probability = 0.006353175013989429\n",
      "\n",
      "Total Probability for x > 5: 0.5570654925501933\n"
     ]
    },
    {
     "data": {
      "image/png": "[encoded data removed]",
      "text/plain": [
       "<Figure size 640x480 with 1 Axes>"
      ]
     },
     "metadata": {},
     "output_type": "display_data"
    }
   ],
   "source": [
    "import numpy as np\n",
    "import matplotlib.pyplot as plt\n",
    "from functools import reduce\n",
    "import operator as op\n",
    "\n",
    "# Fungsi const(n, r) untuk menghitung kombinasi nCr\n",
    "def const(n, r):\n",
    "    r = min(r, n - r)\n",
    "    numer = reduce(op.mul, range(n, n - r, -1), 1)\n",
    "    denom = reduce(op.mul, range(1, r + 1), 1)\n",
    "    return numer / denom\n",
    "\n",
    "# Fungsi binomial(n, p) untuk menghitung distribusi binomial\n",
    "def binomial(n, p):\n",
    "    q = 1 - p\n",
    "    y = [const(n, k) * (p ** k) * (q ** (n - k)) for k in range(n)]\n",
    "    return y, np.mean(y), np.std(y)\n",
    "\n",
    "# Menghitung dan menampilkan distribusi binomial\n",
    "percentage = 0.474\n",
    "amount = 10\n",
    "x_values = np.arange(1, 11)\n",
    "total = 0\n",
    "\n",
    "for x in x_values:\n",
    "    if x > 5:\n",
    "        y, u, s = binomial(amount, percentage)\n",
    "        total += y[x - 1]\n",
    "\n",
    "        # Menampilkan hasil distribusi binomial untuk x\n",
    "        print(f\"x = {x}, Binomial Probability = {y[x - 1]}\")\n",
    "\n",
    "print('\\nTotal Probability for x > 5:', total)\n",
    "\n",
    "# Membuat scatter plot dari hasil simulasi dengan label yang mencakup rata-rata dan deviasi standar\n",
    "plt.scatter(x_values, y[:10], label=r'$\\mu=%.2f,\\ \\sigma=%.2f$' % (u, s))\n",
    "plt.xlabel(\"x\")\n",
    "plt.ylabel(\"Binomial Probability\")\n",
    "plt.legend()\n",
    "plt.show()\n"
   ]
  },
  {
   "cell_type": "markdown",
   "metadata": {},
   "source": [
    "Myojo"
   ]
  },
  {
   "cell_type": "code",
   "execution_count": 25,
   "metadata": {},
   "outputs": [
    {
     "name": "stdout",
     "output_type": "stream",
     "text": [
      "x = 6, Binomial Probability = 0.17631221601256641\n",
      "x = 7, Binomial Probability = 0.08740624212212557\n",
      "x = 8, Binomial Probability = 0.029712944462568086\n",
      "x = 9, Binomial Probability = 0.006628545624723622\n",
      "x = 10, Binomial Probability = 0.0008762883282019887\n",
      "\n",
      "Total Probability for x > 5: 0.3009362365501857\n"
     ]
    },
    {
     "data": {
      "image/png": "[encoded data removed]",
      "text/plain": [
       "<Figure size 640x480 with 1 Axes>"
      ]
     },
     "metadata": {},
     "output_type": "display_data"
    }
   ],
   "source": [
    "import numpy as np\n",
    "import matplotlib.pyplot as plt\n",
    "from functools import reduce\n",
    "import operator as op\n",
    "\n",
    "# Fungsi const(n, r) untuk menghitung kombinasi nCr\n",
    "def const(n, r):\n",
    "    r = min(r, n - r)\n",
    "    numer = reduce(op.mul, range(n, n - r, -1), 1)\n",
    "    denom = reduce(op.mul, range(1, r + 1), 1)\n",
    "    return numer / denom\n",
    "\n",
    "# Fungsi binomial(n, p) untuk menghitung distribusi binomial\n",
    "def binomial(n, p):\n",
    "    q = 1 - p\n",
    "    y = [const(n, k) * (p ** k) * (q ** (n - k)) for k in range(n)]\n",
    "    return y, np.mean(y), np.std(y)\n",
    "\n",
    "# Menghitung dan menampilkan distribusi binomial\n",
    "percentage = 0.373\n",
    "amount = 10\n",
    "x_values = np.arange(1, 11)\n",
    "total = 0\n",
    "\n",
    "for x in x_values:\n",
    "    if x > 5:\n",
    "        y, u, s = binomial(amount, percentage)\n",
    "        total += y[x - 1]\n",
    "\n",
    "        # Menampilkan hasil distribusi binomial untuk x\n",
    "        print(f\"x = {x}, Binomial Probability = {y[x - 1]}\")\n",
    "\n",
    "print('\\nTotal Probability for x > 5:', total)\n",
    "\n",
    "# Membuat scatter plot dari hasil simulasi dengan label yang mencakup rata-rata dan deviasi standar\n",
    "plt.scatter(x_values, y[:10], label=r'$\\mu=%.2f,\\ \\sigma=%.2f$' % (u, s))\n",
    "plt.xlabel(\"x\")\n",
    "plt.ylabel(\"Binomial Probability\")\n",
    "plt.legend()\n",
    "plt.show()\n"
   ]
  }
 ],
 "metadata": {
  "kernelspec": {
   "display_name": "Python 3",
   "language": "python",
   "name": "python3"
  },
  "language_info": {
   "codemirror_mode": {
    "name": "ipython",
    "version": 3
   },
   "file_extension": ".py",
   "mimetype": "text/x-python",
   "name": "python",
   "nbconvert_exporter": "python",
   "pygments_lexer": "ipython3",
   "version": "3.9.7"
  },
  "orig_nbformat": 4
 },
 "nbformat": 4,
 "nbformat_minor": 2
}
